{
 "cells": [
  {
   "cell_type": "code",
   "execution_count": 12,
   "metadata": {},
   "outputs": [],
   "source": [
    "import numpy as np\n",
    "import pandas as pd\n",
    "import pickle\n",
    "import tensorflow as tf\n",
    "from matplotlib import pyplot as plt"
   ]
  },
  {
   "cell_type": "code",
   "execution_count": 13,
   "metadata": {},
   "outputs": [],
   "source": [
    "%matplotlib inline"
   ]
  },
  {
   "cell_type": "code",
   "execution_count": 3,
   "metadata": {},
   "outputs": [
    {
     "data": {
      "text/plain": [
       "'1.14.0'"
      ]
     },
     "execution_count": 3,
     "metadata": {},
     "output_type": "execute_result"
    }
   ],
   "source": [
    "tf.__version__"
   ]
  },
  {
   "cell_type": "code",
   "execution_count": 4,
   "metadata": {},
   "outputs": [],
   "source": [
    "with open('x_raw.pickle', 'rb') as handle:\n",
    "    x_raw = pickle.load(handle)\n",
    "with open('label.pickle', 'rb') as handle:\n",
    "    label = pickle.load(handle)"
   ]
  },
  {
   "cell_type": "code",
   "execution_count": 5,
   "metadata": {},
   "outputs": [
    {
     "data": {
      "text/plain": [
       "339"
      ]
     },
     "execution_count": 5,
     "metadata": {},
     "output_type": "execute_result"
    }
   ],
   "source": [
    "len(x_raw)"
   ]
  },
  {
   "cell_type": "code",
   "execution_count": 6,
   "metadata": {},
   "outputs": [
    {
     "data": {
      "text/plain": [
       "339"
      ]
     },
     "execution_count": 6,
     "metadata": {},
     "output_type": "execute_result"
    }
   ],
   "source": [
    "len(label)"
   ]
  },
  {
   "cell_type": "markdown",
   "metadata": {},
   "source": [
    "### input size vs. accuracy"
   ]
  },
  {
   "cell_type": "code",
   "execution_count": 291,
   "metadata": {},
   "outputs": [
    {
     "name": "stdout",
     "output_type": "stream",
     "text": [
      "973 94 171.0\n"
     ]
    }
   ],
   "source": [
    "sample_size_list = [m.shape[0] for m in x_raw]\n",
    "print(np.max(sample_size_list), min(sample_size_list), np.median(sample_size_list))"
   ]
  },
  {
   "cell_type": "code",
   "execution_count": 292,
   "metadata": {},
   "outputs": [
    {
     "data": {
      "text/plain": [
       "count    339.000000\n",
       "mean     176.672566\n",
       "std       60.067631\n",
       "min       94.000000\n",
       "25%      155.000000\n",
       "50%      171.000000\n",
       "75%      186.000000\n",
       "max      973.000000\n",
       "dtype: float64"
      ]
     },
     "execution_count": 292,
     "metadata": {},
     "output_type": "execute_result"
    }
   ],
   "source": [
    "pd.Series(sample_size_list).describe()"
   ]
  },
  {
   "cell_type": "code",
   "execution_count": 293,
   "metadata": {},
   "outputs": [
    {
     "data": {
      "image/png": "[encoded data removed]",
      "text/plain": [
       "<Figure size 432x288 with 1 Axes>"
      ]
     },
     "metadata": {},
     "output_type": "display_data"
    }
   ],
   "source": [
    "pd.Series(sample_size_list).hist()\n",
    "plt.show()"
   ]
  },
  {
   "cell_type": "code",
   "execution_count": 17,
   "metadata": {},
   "outputs": [],
   "source": [
    "input_size_list = [50, 90, 120, 150, 180, 200]"
   ]
  },
  {
   "cell_type": "markdown",
   "metadata": {},
   "source": [
    "#### Downsampling (random) + zero padding (end)"
   ]
  },
  {
   "cell_type": "code",
   "execution_count": 467,
   "metadata": {},
   "outputs": [],
   "source": [
    "def preprocess(input_size, raw_data, downsample='random', \n",
    "               padding='end', random_seed=11):\n",
    "    \"\"\"\n",
    "    Preprocess each data point of raw_data with certain rules given input_size.\n",
    "    If input_size < raw_data[i].shape[0], downsample with 'random' or 'equal_space';\n",
    "    If input_size > raw_data[i].shape[0], pad with zeros to the 'beginning' or 'end' or 'both'\n",
    "    As raw_data[i] has dim of m*3, padding [0, 0, 0] to it\n",
    "    \"\"\"\n",
    "    sampled_data = []\n",
    "    \n",
    "    for elem in raw_data:\n",
    "        if input_size < elem.shape[0]:\n",
    "            if downsample == 'random':\n",
    "                np.random.seed(random_seed)\n",
    "                # randomly sampling the indices for each matrix\n",
    "                random_idx = np.random.randint(0, elem.shape[0], input_size)\n",
    "                # sort the indices to match the timestamps\n",
    "                random_idx.sort()\n",
    "            else:\n",
    "                # add \"equal_space\"\n",
    "                random_idx = range(input_size)\n",
    "                pass\n",
    "            sampled_data.append(np.array(elem[random_idx, :]))\n",
    "        elif input_size > elem.shape[0]:\n",
    "            padding_size = input_size - elem.shape[0]\n",
    "            padding_matrix = np.zeros(dtype=np.float32, \n",
    "                                      shape=(padding_size, elem.shape[1]))\n",
    "            #padding_matrix = np.asarray([0.0]*elem.shape[1]*padding_size, \n",
    "                                        #dtype=np.float32).reshape(-1, elem.shape[1])\n",
    "            if padding == 'end':\n",
    "                sampled_data.append(np.vstack([elem, padding_matrix]))\n",
    "            elif padding == 'begin':\n",
    "                sampled_data.append(np.vstack([padding_matrix, elem]))\n",
    "            else:\n",
    "                # need to implement adding to both ends\n",
    "                sampled_data.append(np.vstack([elem, padding_matrix]))\n",
    "                pass\n",
    "        else:\n",
    "            sampled_data.append(elem)\n",
    "    \n",
    "    return sampled_data"
   ]
  },
  {
   "cell_type": "code",
   "execution_count": 182,
   "metadata": {},
   "outputs": [],
   "source": [
    "input_size = 94\n",
    "x_downsampled = []\n",
    "for elem in x_raw:\n",
    "    np.random.seed(11)\n",
    "    # randomly sampling the indices for each matrix\n",
    "    random_idx = np.random.randint(0, elem.shape[0], input_size)\n",
    "    # sort the indices to match the timestamps\n",
    "    random_idx.sort()\n",
    "    # downsampling\n",
    "    x_downsampled.append(elem[random_idx, :])\n",
    "x_downsampled = np.array(x_downsampled)"
   ]
  },
  {
   "cell_type": "code",
   "execution_count": 183,
   "metadata": {},
   "outputs": [
    {
     "data": {
      "text/plain": [
       "(339, 94, 3)"
      ]
     },
     "execution_count": 183,
     "metadata": {},
     "output_type": "execute_result"
    }
   ],
   "source": [
    "x_downsampled.shape"
   ]
  },
  {
   "cell_type": "code",
   "execution_count": 169,
   "metadata": {},
   "outputs": [],
   "source": [
    "sample_size = x_downsampled.shape[0]"
   ]
  },
  {
   "cell_type": "code",
   "execution_count": 334,
   "metadata": {},
   "outputs": [],
   "source": [
    "x_sampled = preprocess(140, x_raw)"
   ]
  },
  {
   "cell_type": "code",
   "execution_count": 336,
   "metadata": {},
   "outputs": [
    {
     "data": {
      "text/plain": [
       "(339, 140, 3)"
      ]
     },
     "execution_count": 336,
     "metadata": {},
     "output_type": "execute_result"
    }
   ],
   "source": [
    "np.array(x_sampled).shape"
   ]
  },
  {
   "cell_type": "code",
   "execution_count": 189,
   "metadata": {},
   "outputs": [
    {
     "data": {
      "text/plain": [
       "26.647596059000005"
      ]
     },
     "execution_count": 189,
     "metadata": {},
     "output_type": "execute_result"
    }
   ],
   "source": [
    "(x_sampled - x_downsampled).sum()"
   ]
  },
  {
   "cell_type": "code",
   "execution_count": 21,
   "metadata": {},
   "outputs": [],
   "source": [
    "num_classes = 10"
   ]
  },
  {
   "cell_type": "markdown",
   "metadata": {},
   "source": [
    "#### shuffling and splitting data"
   ]
  },
  {
   "cell_type": "code",
   "execution_count": 464,
   "metadata": {},
   "outputs": [],
   "source": [
    "from sklearn.preprocessing import PolynomialFeatures\n",
    "def split_data(sampled_data, label, n_classes=10, train_idx=240,\n",
    "               shuffle=True, feature='linear', degree=3, \n",
    "               norm=False, random_seed=11):  \n",
    "    \"\"\"\n",
    "    sampled_data is a list of matrices\n",
    "    The function shuffles X+y\n",
    "    splits from train_idx\n",
    "    extend features\n",
    "    return 4 matrices\n",
    "    \"\"\"\n",
    "    sample_size = len(sampled_data)\n",
    "    y = np.eye(num_classes)[np.array(label)]\n",
    "    if feature == 'linear':\n",
    "        X = np.asarray(sampled_data, dtype=np.float32).reshape(sample_size, -1)\n",
    "    elif feature == 'poly':\n",
    "        tmp_sampled_poly = []\n",
    "        for elem in sampled_data:\n",
    "            poly = PolynomialFeatures(degree=degree)\n",
    "            tmp_sampled_poly.append(poly.fit_transform(elem))\n",
    "        X = np.asarray(tmp_sampled_poly, dtype=np.float32).reshape(sample_size, -1)\n",
    "    \n",
    "    #print(X.shape, y.shape)\n",
    "    tmp = np.hstack([X, y])\n",
    "    np.random.seed(random_seed)\n",
    "    np.random.shuffle(tmp)\n",
    "    X = tmp[:, :-num_classes]\n",
    "    y = tmp[:, -num_classes:]\n",
    "    \n",
    "    X_train, X_test = X[:train_idx, :], X[train_idx:, :]\n",
    "    y_train, y_test = y[:train_idx, :], y[train_idx:, :]\n",
    "    \n",
    "    return X_train, X_test, y_train, y_test"
   ]
  },
  {
   "cell_type": "code",
   "execution_count": 220,
   "metadata": {},
   "outputs": [
    {
     "name": "stdout",
     "output_type": "stream",
     "text": [
      "(339, 360) (339, 10)\n"
     ]
    }
   ],
   "source": [
    "X_train, X_test, y_train, y_test = split_data(x_sampled, label, random_seed=3)"
   ]
  },
  {
   "cell_type": "markdown",
   "metadata": {},
   "source": [
    "#### Input_size vs. Accuracy"
   ]
  },
  {
   "cell_type": "code",
   "execution_count": 461,
   "metadata": {},
   "outputs": [],
   "source": [
    "input_size_list = range(10, 200, 10)\n",
    "random_seeds = [1, 3, 11, 23, 56, 97]\n",
    "num_classes = 10"
   ]
  },
  {
   "cell_type": "code",
   "execution_count": 465,
   "metadata": {},
   "outputs": [],
   "source": [
    "acc_svm_random_end_unnorm = []\n",
    "\n",
    "for input_size in input_size_list:\n",
    "    for random_seed in random_seeds:\n",
    "        x_sampled = preprocess(input_size, x_raw, random_seed=random_seed)\n",
    "        #print(\"Input size: {}, random seed: {}, sampled data {}\". format(input_size, random_seed, sampled_data.shape))\n",
    "        X_train, X_test, y_train, y_test = split_data(x_sampled, label, \n",
    "                                                      random_seed=random_seed)\n",
    "        \n",
    "        svc = SVC(C=1.0, kernel='poly', degree=3, decision_function_shape='ovo', gamma='auto')\n",
    "        svc.fit(X_train, np.dot(y_train, range(num_classes)))\n",
    "        acc_svm_random_end_unnorm.append(svc.score(X_test, np.dot(y_test, range(num_classes))))"
   ]
  },
  {
   "cell_type": "code",
   "execution_count": 468,
   "metadata": {},
   "outputs": [],
   "source": [
    "acc_svm_random_begin_unnorm = []\n",
    "\n",
    "for input_size in input_size_list:\n",
    "    for random_seed in random_seeds:\n",
    "        x_sampled = preprocess(input_size, x_raw, padding='begin',\n",
    "                               random_seed=random_seed)\n",
    "        #print(\"Input size: {}, random seed: {}, sampled data {}\". format(input_size, random_seed, sampled_data.shape))\n",
    "        X_train, X_test, y_train, y_test = split_data(x_sampled, label, \n",
    "                                                      random_seed=random_seed)\n",
    "        \n",
    "        svc = SVC(C=1.0, kernel='poly', degree=3, decision_function_shape='ovo', gamma='auto')\n",
    "        svc.fit(X_train, np.dot(y_train, range(num_classes)))\n",
    "        acc_svm_random_begin_unnorm.append(svc.score(X_test, np.dot(y_test, range(num_classes))))"
   ]
  },
  {
   "cell_type": "code",
   "execution_count": 469,
   "metadata": {},
   "outputs": [],
   "source": [
    "def mean_std_acc(acc_list, num_seeds=6):\n",
    "    acc_matrix = np.array(acc_list).reshape(-1, num_seeds)\n",
    "    acc_mean = acc_matrix.mean(axis=1)\n",
    "    acc_std = acc_matrix.std(axis=1)\n",
    "    return acc_mean, acc_std"
   ]
  },
  {
   "cell_type": "code",
   "execution_count": 473,
   "metadata": {},
   "outputs": [],
   "source": [
    "acc_mean_1, acc_std_1 = mean_std_acc(acc_svm_random_end_unnorm)\n",
    "acc_mean_2, acc_std_2 = mean_std_acc(acc_svm_random_begin_unnorm)"
   ]
  },
  {
   "cell_type": "code",
   "execution_count": 475,
   "metadata": {},
   "outputs": [
    {
     "data": {
      "image/png": "[encoded data removed]",
      "text/plain": [
       "<Figure size 432x288 with 1 Axes>"
      ]
     },
     "metadata": {},
     "output_type": "display_data"
    }
   ],
   "source": [
    "plt.plot(input_size_list, acc_mean_1, '.-')\n",
    "plt.plot(input_size_list, acc_mean_2, '--')\n",
    "plt.show()"
   ]
  },
  {
   "cell_type": "markdown",
   "metadata": {},
   "source": [
    "#### Logistic regression"
   ]
  },
  {
   "cell_type": "code",
   "execution_count": 477,
   "metadata": {},
   "outputs": [],
   "source": [
    "acc_lg_random_end_unnorm = []\n",
    "\n",
    "for input_size in input_size_list:\n",
    "    for random_seed in random_seeds:\n",
    "        x_sampled = preprocess(input_size, x_raw, random_seed=random_seed)\n",
    "        #print(\"Input size: {}, random seed: {}, sampled data {}\". format(input_size, random_seed, sampled_data.shape))\n",
    "        X_train, X_test, y_train, y_test = split_data(x_sampled, label, \n",
    "                                                      random_seed=random_seed)\n",
    "        \n",
    "        lg = LogisticRegression(penalty='l2', C=1.0, solver='newton-cg', multi_class='multinomial')\n",
    "        lg.fit(X_train, np.dot(y_train, range(num_classes)))\n",
    "        acc_lg_random_end_unnorm.append(lg.score(X_test, np.dot(y_test, range(num_classes))))"
   ]
  },
  {
   "cell_type": "code",
   "execution_count": 483,
   "metadata": {},
   "outputs": [],
   "source": [
    "acc_lg_random_begin_unnorm = []\n",
    "\n",
    "for input_size in input_size_list:\n",
    "    for random_seed in random_seeds:\n",
    "        x_sampled = preprocess(input_size, x_raw, padding='begin',\n",
    "                               random_seed=random_seed)\n",
    "        #print(\"Input size: {}, random seed: {}, sampled data {}\". format(input_size, random_seed, sampled_data.shape))\n",
    "        X_train, X_test, y_train, y_test = split_data(x_sampled, label, \n",
    "                                                      random_seed=random_seed)\n",
    "        \n",
    "        lg = LogisticRegression(penalty='l2', C=1.0, solver='newton-cg', multi_class='multinomial')\n",
    "        lg.fit(X_train, np.dot(y_train, range(num_classes)))\n",
    "        acc_lg_random_begin_unnorm.append(lg.score(X_test, np.dot(y_test, range(num_classes))))"
   ]
  },
  {
   "cell_type": "code",
   "execution_count": 484,
   "metadata": {},
   "outputs": [],
   "source": [
    "acc_mean_lg1, acc_std_lg1 = mean_std_acc(acc_lg_random_end_unnorm)\n",
    "acc_mean_lg2, acc_std_lg2 = mean_std_acc(acc_lg_random_begin_unnorm)"
   ]
  },
  {
   "cell_type": "code",
   "execution_count": 485,
   "metadata": {},
   "outputs": [
    {
     "data": {
      "text/plain": [
       "array([0.68181818, 0.78619529, 0.81313131, 0.84006734, 0.84680135,\n",
       "       0.86531987, 0.86531987, 0.87542088, 0.88047138, 0.87710438,\n",
       "       0.89057239, 0.88047138, 0.89057239, 0.87542088, 0.87205387,\n",
       "       0.85353535, 0.82491582, 0.80639731, 0.78282828])"
      ]
     },
     "execution_count": 485,
     "metadata": {},
     "output_type": "execute_result"
    }
   ],
   "source": [
    "acc_mean_lg1"
   ]
  },
  {
   "cell_type": "code",
   "execution_count": 486,
   "metadata": {},
   "outputs": [
    {
     "data": {
      "text/plain": [
       "array([0.68181818, 0.78619529, 0.81313131, 0.84006734, 0.84680135,\n",
       "       0.86531987, 0.86531987, 0.87542088, 0.88047138, 0.87710438,\n",
       "       0.8956229 , 0.89225589, 0.9023569 , 0.88552189, 0.8956229 ,\n",
       "       0.87878788, 0.88552189, 0.87878788, 0.88215488])"
      ]
     },
     "execution_count": 486,
     "metadata": {},
     "output_type": "execute_result"
    }
   ],
   "source": [
    "acc_mean_lg2"
   ]
  },
  {
   "cell_type": "code",
   "execution_count": 487,
   "metadata": {},
   "outputs": [
    {
     "data": {
      "image/png": "[encoded data removed]",
      "text/plain": [
       "<Figure size 432x288 with 1 Axes>"
      ]
     },
     "metadata": {},
     "output_type": "display_data"
    }
   ],
   "source": [
    "plt.plot(input_size_list, acc_mean_lg1, '.-')\n",
    "plt.plot(input_size_list, acc_mean_lg2, '.-')\n",
    "plt.show()"
   ]
  },
  {
   "cell_type": "markdown",
   "metadata": {},
   "source": [
    "#### Random Forest"
   ]
  },
  {
   "cell_type": "code",
   "execution_count": 30,
   "metadata": {},
   "outputs": [],
   "source": [
    "from sklearn.ensemble import RandomForestClassifier"
   ]
  },
  {
   "cell_type": "code",
   "execution_count": 31,
   "metadata": {},
   "outputs": [
    {
     "data": {
      "text/plain": [
       "RandomForestClassifier(bootstrap=True, class_weight=None, criterion='gini',\n",
       "            max_depth=5, max_features='auto', max_leaf_nodes=None,\n",
       "            min_impurity_decrease=0.0, min_impurity_split=None,\n",
       "            min_samples_leaf=1, min_samples_split=2,\n",
       "            min_weight_fraction_leaf=0.0, n_estimators=50, n_jobs=None,\n",
       "            oob_score=False, random_state=None, verbose=0,\n",
       "            warm_start=False)"
      ]
     },
     "execution_count": 31,
     "metadata": {},
     "output_type": "execute_result"
    }
   ],
   "source": [
    "rf = RandomForestClassifier(n_estimators=50, max_depth=5)\n",
    "rf.fit(X_train, y_train)"
   ]
  },
  {
   "cell_type": "code",
   "execution_count": 32,
   "metadata": {},
   "outputs": [
    {
     "data": {
      "text/plain": [
       "0.8166666666666667"
      ]
     },
     "execution_count": 32,
     "metadata": {},
     "output_type": "execute_result"
    }
   ],
   "source": [
    "rf.score(X_train, y_train)"
   ]
  },
  {
   "cell_type": "code",
   "execution_count": 33,
   "metadata": {},
   "outputs": [
    {
     "data": {
      "text/plain": [
       "0.2828282828282828"
      ]
     },
     "execution_count": 33,
     "metadata": {},
     "output_type": "execute_result"
    }
   ],
   "source": [
    "rf.score(X_test, y_test)"
   ]
  },
  {
   "cell_type": "markdown",
   "metadata": {},
   "source": [
    "#### Logistic Regression"
   ]
  },
  {
   "cell_type": "code",
   "execution_count": 270,
   "metadata": {},
   "outputs": [],
   "source": [
    "from sklearn.linear_model import LogisticRegression"
   ]
  },
  {
   "cell_type": "code",
   "execution_count": 271,
   "metadata": {},
   "outputs": [
    {
     "data": {
      "text/plain": [
       "LogisticRegression(C=1.0, class_weight=None, dual=False, fit_intercept=True,\n",
       "          intercept_scaling=1, max_iter=100, multi_class='multinomial',\n",
       "          n_jobs=None, penalty='l2', random_state=None, solver='newton-cg',\n",
       "          tol=0.0001, verbose=0, warm_start=False)"
      ]
     },
     "execution_count": 271,
     "metadata": {},
     "output_type": "execute_result"
    }
   ],
   "source": [
    "lg = LogisticRegression(penalty='l2', C=1.0, solver='newton-cg', multi_class='multinomial')\n",
    "lg.fit(X_train, np.dot(y_train, range(num_classes)))"
   ]
  },
  {
   "cell_type": "code",
   "execution_count": 272,
   "metadata": {},
   "outputs": [
    {
     "data": {
      "text/plain": [
       "1.0"
      ]
     },
     "execution_count": 272,
     "metadata": {},
     "output_type": "execute_result"
    }
   ],
   "source": [
    "lg.score(X_train, np.dot(y_train, range(num_classes)))"
   ]
  },
  {
   "cell_type": "code",
   "execution_count": 273,
   "metadata": {},
   "outputs": [
    {
     "data": {
      "text/plain": [
       "0.8282828282828283"
      ]
     },
     "execution_count": 273,
     "metadata": {},
     "output_type": "execute_result"
    }
   ],
   "source": [
    "lg.score(X_test, np.dot(y_test, range(num_classes)))"
   ]
  },
  {
   "cell_type": "code",
   "execution_count": 274,
   "metadata": {},
   "outputs": [],
   "source": [
    "from sklearn.metrics import confusion_matrix\n",
    "import matplotlib.pyplot as plt"
   ]
  },
  {
   "cell_type": "code",
   "execution_count": 258,
   "metadata": {},
   "outputs": [],
   "source": [
    "cm = confusion_matrix(np.dot(y_test, range(num_classes)), \n",
    "                      lg.predict(X_test))"
   ]
  },
  {
   "cell_type": "code",
   "execution_count": 259,
   "metadata": {},
   "outputs": [],
   "source": [
    "cm_norm = cm.astype('float') / cm.sum(axis=1)[:, np.newaxis]"
   ]
  },
  {
   "cell_type": "code",
   "execution_count": 260,
   "metadata": {},
   "outputs": [
    {
     "data": {
      "text/plain": [
       "array([[12,  0,  0,  0,  0,  0,  0,  0,  0,  1],\n",
       "       [ 0,  7,  0,  0,  0,  0,  0,  0,  0,  0],\n",
       "       [ 0,  0,  6,  0,  0,  0,  0,  0,  0,  0],\n",
       "       [ 0,  0,  0,  9,  0,  0,  0,  0,  0,  0],\n",
       "       [ 0,  0,  0,  0, 11,  0,  0,  0,  0,  0],\n",
       "       [ 1,  0,  0,  0,  1,  9,  0,  0,  2,  0],\n",
       "       [ 0,  1,  0,  0,  0,  0, 13,  0,  0,  0],\n",
       "       [ 0,  2,  0,  0,  0,  0,  0,  5,  0,  0],\n",
       "       [ 0,  0,  0,  0,  0,  0,  0,  0, 11,  0],\n",
       "       [ 0,  1,  0,  1,  0,  0,  0,  0,  0,  6]])"
      ]
     },
     "execution_count": 260,
     "metadata": {},
     "output_type": "execute_result"
    }
   ],
   "source": [
    "cm"
   ]
  },
  {
   "cell_type": "code",
   "execution_count": 261,
   "metadata": {},
   "outputs": [
    {
     "data": {
      "image/png": "[encoded data removed]",
      "text/plain": [
       "<Figure size 576x432 with 1 Axes>"
      ]
     },
     "metadata": {},
     "output_type": "display_data"
    }
   ],
   "source": [
    "plt.figure(figsize=(8, 6))\n",
    "plt.imshow(cm, interpolation='nearest', cmap=plt.cm.Blues)\n",
    "plt.show()"
   ]
  },
  {
   "cell_type": "markdown",
   "metadata": {},
   "source": [
    "#### SVM"
   ]
  },
  {
   "cell_type": "code",
   "execution_count": 281,
   "metadata": {},
   "outputs": [],
   "source": [
    "from sklearn.svm import SVC"
   ]
  },
  {
   "cell_type": "code",
   "execution_count": 287,
   "metadata": {},
   "outputs": [
    {
     "name": "stderr",
     "output_type": "stream",
     "text": [
      "/Users/yuezha01/anaconda3/envs/tensorflow_cpu/lib/python3.6/site-packages/sklearn/svm/base.py:196: FutureWarning: The default value of gamma will change from 'auto' to 'scale' in version 0.22 to account better for unscaled features. Set gamma explicitly to 'auto' or 'scale' to avoid this warning.\n",
      "  \"avoid this warning.\", FutureWarning)\n"
     ]
    },
    {
     "data": {
      "text/plain": [
       "SVC(C=1.0, cache_size=200, class_weight=None, coef0=0.0,\n",
       "  decision_function_shape='ovo', degree=3, gamma='auto_deprecated',\n",
       "  kernel='poly', max_iter=-1, probability=False, random_state=None,\n",
       "  shrinking=True, tol=0.001, verbose=False)"
      ]
     },
     "execution_count": 287,
     "metadata": {},
     "output_type": "execute_result"
    }
   ],
   "source": [
    "svc = SVC(C=1.0, kernel='poly', degree=3, decision_function_shape='ovo')\n",
    "svc.fit(X_train, np.dot(y_train, range(num_classes)))"
   ]
  },
  {
   "cell_type": "code",
   "execution_count": 288,
   "metadata": {},
   "outputs": [
    {
     "data": {
      "text/plain": [
       "1.0"
      ]
     },
     "execution_count": 288,
     "metadata": {},
     "output_type": "execute_result"
    }
   ],
   "source": [
    "svc.score(X_train, np.dot(y_train, range(num_classes)))"
   ]
  },
  {
   "cell_type": "code",
   "execution_count": 289,
   "metadata": {},
   "outputs": [
    {
     "data": {
      "text/plain": [
       "0.7777777777777778"
      ]
     },
     "execution_count": 289,
     "metadata": {},
     "output_type": "execute_result"
    }
   ],
   "source": [
    "svc.score(X_test, np.dot(y_test, range(num_classes)))"
   ]
  },
  {
   "cell_type": "code",
   "execution_count": 266,
   "metadata": {},
   "outputs": [
    {
     "data": {
      "text/plain": [
       "array([[12,  0,  0,  0,  0,  0,  0,  0,  0,  1],\n",
       "       [ 0,  7,  0,  0,  0,  0,  0,  0,  0,  0],\n",
       "       [ 0,  0,  6,  0,  0,  0,  0,  0,  0,  0],\n",
       "       [ 0,  0,  0,  9,  0,  0,  0,  0,  0,  0],\n",
       "       [ 0,  0,  0,  0, 11,  0,  0,  0,  0,  0],\n",
       "       [ 0,  0,  0,  0,  0, 10,  0,  0,  3,  0],\n",
       "       [ 1,  0,  0,  0,  0,  0, 13,  0,  0,  0],\n",
       "       [ 0,  1,  0,  0,  0,  0,  0,  6,  0,  0],\n",
       "       [ 0,  0,  0,  0,  0,  0,  0,  0, 11,  0],\n",
       "       [ 0,  1,  0,  2,  0,  0,  0,  1,  0,  4]])"
      ]
     },
     "execution_count": 266,
     "metadata": {},
     "output_type": "execute_result"
    }
   ],
   "source": [
    "cm = confusion_matrix(np.dot(y_test, range(num_classes)), \n",
    "                      svc.predict(X_test))\n",
    "cm_norm = cm.astype('float') / cm.sum(axis=1)[:, np.newaxis]\n",
    "cm"
   ]
  },
  {
   "cell_type": "code",
   "execution_count": 267,
   "metadata": {},
   "outputs": [
    {
     "data": {
      "image/png": "[encoded data removed]",
      "text/plain": [
       "<Figure size 576x432 with 1 Axes>"
      ]
     },
     "metadata": {},
     "output_type": "display_data"
    }
   ],
   "source": [
    "plt.figure(figsize=(8, 6))\n",
    "plt.imshow(cm, interpolation='nearest', cmap=plt.cm.Blues)\n",
    "plt.show()"
   ]
  },
  {
   "cell_type": "markdown",
   "metadata": {},
   "source": [
    "#### DNN"
   ]
  },
  {
   "cell_type": "code",
   "execution_count": 400,
   "metadata": {},
   "outputs": [
    {
     "data": {
      "text/plain": [
       "339"
      ]
     },
     "execution_count": 400,
     "metadata": {},
     "output_type": "execute_result"
    }
   ],
   "source": [
    "x_sampled = preprocess(120, x_raw)\n",
    "len(x_sampled)"
   ]
  },
  {
   "cell_type": "code",
   "execution_count": 401,
   "metadata": {},
   "outputs": [
    {
     "data": {
      "text/plain": [
       "(339, 120, 3)"
      ]
     },
     "execution_count": 401,
     "metadata": {},
     "output_type": "execute_result"
    }
   ],
   "source": [
    "np.asarray(x_sampled).shape"
   ]
  },
  {
   "cell_type": "code",
   "execution_count": 425,
   "metadata": {},
   "outputs": [
    {
     "name": "stdout",
     "output_type": "stream",
     "text": [
      "(339, 360) (339, 10)\n"
     ]
    }
   ],
   "source": [
    "X_train, X_test, y_train, y_test = split_data(x_sampled, label, feature='linear',\n",
    "                                              random_seed=11)"
   ]
  },
  {
   "cell_type": "code",
   "execution_count": 407,
   "metadata": {},
   "outputs": [
    {
     "data": {
      "text/plain": [
       "LogisticRegression(C=1.0, class_weight=None, dual=False, fit_intercept=True,\n",
       "          intercept_scaling=1, max_iter=100, multi_class='multinomial',\n",
       "          n_jobs=None, penalty='l2', random_state=None, solver='newton-cg',\n",
       "          tol=0.0001, verbose=0, warm_start=False)"
      ]
     },
     "execution_count": 407,
     "metadata": {},
     "output_type": "execute_result"
    }
   ],
   "source": [
    "lg = LogisticRegression(penalty='l2', C=1.0, solver='newton-cg', multi_class='multinomial')\n",
    "lg.fit(X_train, np.dot(y_train, range(num_classes)))"
   ]
  },
  {
   "cell_type": "code",
   "execution_count": 408,
   "metadata": {},
   "outputs": [
    {
     "data": {
      "text/plain": [
       "1.0"
      ]
     },
     "execution_count": 408,
     "metadata": {},
     "output_type": "execute_result"
    }
   ],
   "source": [
    "lg.score(X_train, np.dot(y_train, range(num_classes)))"
   ]
  },
  {
   "cell_type": "code",
   "execution_count": 409,
   "metadata": {},
   "outputs": [
    {
     "data": {
      "text/plain": [
       "0.8383838383838383"
      ]
     },
     "execution_count": 409,
     "metadata": {},
     "output_type": "execute_result"
    }
   ],
   "source": [
    "lg.score(X_test, np.dot(y_test, range(num_classes)))"
   ]
  },
  {
   "cell_type": "code",
   "execution_count": null,
   "metadata": {},
   "outputs": [],
   "source": []
  },
  {
   "cell_type": "code",
   "execution_count": 426,
   "metadata": {},
   "outputs": [],
   "source": [
    "tf.reset_default_graph()"
   ]
  },
  {
   "cell_type": "code",
   "execution_count": 427,
   "metadata": {},
   "outputs": [],
   "source": [
    "input_shape =  X_train.shape[1]\n",
    "fc1_shape = 32\n",
    "fc2_shape = 64"
   ]
  },
  {
   "cell_type": "code",
   "execution_count": 428,
   "metadata": {},
   "outputs": [],
   "source": [
    "x = tf.placeholder(tf.float32, shape=[None, input_shape], name='x')\n",
    "y_ = tf.placeholder(tf.float32, shape=[None, num_classes], name='y_')\n",
    "keep_proba = tf.placeholder(tf.float32, shape=())"
   ]
  },
  {
   "cell_type": "code",
   "execution_count": 429,
   "metadata": {},
   "outputs": [
    {
     "name": "stdout",
     "output_type": "stream",
     "text": [
      "<tf.Variable 'fc1/weights:0' shape=(360, 32) dtype=float32_ref>\n",
      "Tensor(\"fc1/dropout/mul_1:0\", shape=(?, 32), dtype=float32)\n"
     ]
    }
   ],
   "source": [
    "with tf.variable_scope(\"fc1\") as scope:\n",
    "    weights = tf.get_variable(name=\"weights\", shape=[input_shape, fc1_shape], dtype=tf.float32,\n",
    "                              initializer=tf.contrib.layers.xavier_initializer(), trainable=True)\n",
    "    bias = tf.get_variable(name=\"bias\", shape=[fc1_shape], dtype=tf.float32,\n",
    "                           initializer=tf.contrib.layers.xavier_initializer(), trainable=True)\n",
    "    fc = tf.matmul(x, weights, name=\"matmul\")\n",
    "    pre_activation = tf.add(fc, bias)\n",
    "    fc1 = tf.nn.relu(pre_activation, name=\"relu\")\n",
    "    dp1 = tf.nn.dropout(fc1, keep_prob=keep_proba)\n",
    "\n",
    "print(weights)\n",
    "print(dp1)"
   ]
  },
  {
   "cell_type": "code",
   "execution_count": 430,
   "metadata": {},
   "outputs": [
    {
     "name": "stdout",
     "output_type": "stream",
     "text": [
      "<tf.Variable 'fc2/weights:0' shape=(32, 64) dtype=float32_ref>\n",
      "Tensor(\"fc2/relu:0\", shape=(?, 64), dtype=float32)\n"
     ]
    }
   ],
   "source": [
    "with tf.variable_scope(\"fc2\") as scope:\n",
    "    weights = tf.get_variable(name=\"weights\", shape=[fc1_shape, fc2_shape], dtype=tf.float32,\n",
    "                              initializer=tf.contrib.layers.xavier_initializer(), trainable=True)\n",
    "    bias = tf.get_variable(name=\"bias\", shape=[fc2_shape], dtype=tf.float32,\n",
    "                           initializer=tf.contrib.layers.xavier_initializer(), trainable=True)\n",
    "    fc = tf.matmul(dp1, weights, name=\"matmul\")\n",
    "    pre_activation = tf.add(fc, bias)\n",
    "    fc2 = tf.nn.relu(pre_activation, name=\"relu\")\n",
    "    dp2 = tf.nn.dropout(fc2, keep_prob=keep_proba)\n",
    "\n",
    "print(weights)\n",
    "print(fc2)"
   ]
  },
  {
   "cell_type": "code",
   "execution_count": 431,
   "metadata": {},
   "outputs": [
    {
     "name": "stdout",
     "output_type": "stream",
     "text": [
      "<tf.Variable 'fc3/weights:0' shape=(64, 10) dtype=float32_ref>\n",
      "Tensor(\"fc3/logits:0\", shape=(?, 10), dtype=float32)\n"
     ]
    }
   ],
   "source": [
    "with tf.variable_scope(\"fc3\") as scope:\n",
    "    weights = tf.get_variable(name=\"weights\", shape=[fc2_shape, num_classes], dtype=tf.float32,\n",
    "                              initializer=tf.contrib.layers.xavier_initializer(), trainable=True)\n",
    "    bias = tf.get_variable(name=\"bias\", shape=[num_classes], dtype=tf.float32,\n",
    "                           initializer=tf.contrib.layers.xavier_initializer(), trainable=True)\n",
    "    fc = tf.matmul(dp2, weights, name=\"matmul\")\n",
    "    logits = tf.add(fc, bias, name=\"logits\")\n",
    "    y_proba = tf.nn.softmax(logits, name=\"y_proba\")\n",
    "    y_pred = tf.argmax(logits, axis=1, name=\"y_pred\")\n",
    "\n",
    "print(weights)\n",
    "print(logits)"
   ]
  },
  {
   "cell_type": "code",
   "execution_count": 432,
   "metadata": {},
   "outputs": [
    {
     "name": "stdout",
     "output_type": "stream",
     "text": [
      "Tensor(\"loss/cross_entropy/Reshape_2:0\", shape=(?,), dtype=float32)\n",
      "Tensor(\"loss/cross_entropy_loss:0\", shape=(), dtype=float32)\n"
     ]
    }
   ],
   "source": [
    "with tf.name_scope(\"loss\"):\n",
    "    cross_entropy = tf.nn.softmax_cross_entropy_with_logits_v2(labels=y_, logits=logits, name=\"cross_entropy\")\n",
    "    loss = tf.reduce_mean(cross_entropy, name=\"cross_entropy_loss\")\n",
    "    #train_step = tf.train.RMSPropOptimizer(learning_rate=1e-4).minimize(loss, name=\"train_step\")\n",
    "    train_step = tf.train.AdamOptimizer(1e-4).minimize(loss, name=\"train_step\")\n",
    "    #lr = tf.placeholder(tf.float32, shape=[])\n",
    "    #train_step = tf.train.GradientDescentOptimizer(lr).minimize(loss, name=\"train_step\")\n",
    "print(cross_entropy)\n",
    "print(loss)"
   ]
  },
  {
   "cell_type": "code",
   "execution_count": 433,
   "metadata": {},
   "outputs": [
    {
     "name": "stdout",
     "output_type": "stream",
     "text": [
      "Tensor(\"eval/Equal:0\", shape=(?,), dtype=bool)\n",
      "Tensor(\"eval/accuracy:0\", shape=(), dtype=float32)\n"
     ]
    }
   ],
   "source": [
    "with tf.name_scope(\"eval\"):\n",
    "    correct = tf.equal(y_pred, tf.argmax(y_, 1))\n",
    "    accuracy = tf.reduce_mean(tf.cast(correct, tf.float32), name=\"accuracy\")\n",
    "print(correct)\n",
    "print(accuracy)"
   ]
  },
  {
   "cell_type": "markdown",
   "metadata": {},
   "source": [
    "#### training"
   ]
  },
  {
   "cell_type": "code",
   "execution_count": 446,
   "metadata": {},
   "outputs": [],
   "source": [
    "sess = tf.Session()\n",
    "# Initialize the variables (i.e. assign their default value)\n",
    "sess.run(tf.global_variables_initializer())\n",
    "saver = tf.train.Saver()"
   ]
  },
  {
   "cell_type": "code",
   "execution_count": 447,
   "metadata": {},
   "outputs": [
    {
     "name": "stdout",
     "output_type": "stream",
     "text": [
      "Epoch 0, training loss: 7.65582, training accuracy: 0.1125\n",
      "Epoch 0, validation loss: 8.36679, validation accuracy 0.0808081\n"
     ]
    }
   ],
   "source": [
    "train_loss, train_accuracy = sess.run([loss, accuracy], \n",
    "                                      feed_dict={x: X_train, \n",
    "                                                 y_: y_train,\n",
    "                                                 keep_proba: 1.0})\n",
    "print('Epoch %d, training loss: %g, training accuracy: %g' % (0, train_loss, train_accuracy))\n",
    "val_loss, val_accuracy = sess.run([loss, accuracy], \n",
    "                                  feed_dict={x: X_test,\n",
    "                                             y_: y_test,\n",
    "                                             keep_proba: 1.0})\n",
    "print('Epoch %d, validation loss: %g, validation accuracy %g' % (0, val_loss, val_accuracy))\n",
    "#results[\"init_loss\"].append(val_loss)\n",
    "#results[\"init_acc\"].append(val_accuracy)\n",
    "max_accuracy = val_accuracy"
   ]
  },
  {
   "cell_type": "code",
   "execution_count": 448,
   "metadata": {},
   "outputs": [],
   "source": [
    "batch_size = 10\n",
    "n_epochs = 50\n",
    "n_batches = int(X_train.shape[0] / batch_size)\n",
    "display_step = 5\n",
    "max_accuracy = 0\n",
    "learning_rate = 0.001\n",
    "decay_rate = 0.999\n",
    "\n",
    "save_ckps_dir = \"./chkps_mnist_air/dnn2\""
   ]
  },
  {
   "cell_type": "code",
   "execution_count": 456,
   "metadata": {},
   "outputs": [
    {
     "name": "stdout",
     "output_type": "stream",
     "text": [
      "Epoch 4, training loss: 0.011407, training accuracy: 1\n",
      "Epoch 4, validation loss: 0.735201, validation accuracy 0.868687\n",
      "learning rate: 0.000701048912947695\n",
      "Epoch 9, training loss: 0.0088539, training accuracy: 1\n",
      "Epoch 9, validation loss: 0.727666, validation accuracy 0.868687\n",
      "learning rate: 0.0006975506718651013\n",
      "Epoch 14, training loss: 0.00989196, training accuracy: 1\n",
      "Epoch 14, validation loss: 0.742058, validation accuracy 0.878788\n",
      "learning rate: 0.0006940698870404747\n",
      "Epoch 19, training loss: 0.00993532, training accuracy: 1\n",
      "Epoch 19, validation loss: 0.730778, validation accuracy 0.878788\n",
      "learning rate: 0.0006906064713669135\n",
      "Epoch 24, training loss: 0.00885638, training accuracy: 1\n",
      "Epoch 24, validation loss: 0.707812, validation accuracy 0.878788\n",
      "learning rate: 0.0006871603381721801\n",
      "Epoch 29, training loss: 0.0105332, training accuracy: 1\n",
      "Epoch 29, validation loss: 0.730061, validation accuracy 0.848485\n",
      "learning rate: 0.0006837314012165325\n",
      "Epoch 34, training loss: 0.0102804, training accuracy: 1\n",
      "Epoch 34, validation loss: 0.754838, validation accuracy 0.868687\n",
      "learning rate: 0.0006803195746905659\n",
      "Epoch 39, training loss: 0.00782185, training accuracy: 1\n",
      "Epoch 39, validation loss: 0.747388, validation accuracy 0.868687\n",
      "learning rate: 0.000676924773213065\n",
      "Epoch 44, training loss: 0.00699722, training accuracy: 1\n",
      "Epoch 44, validation loss: 0.758418, validation accuracy 0.888889\n",
      "learning rate: 0.0006735469118288681\n",
      "Epoch 49, training loss: 0.00729396, training accuracy: 1\n",
      "Epoch 49, validation loss: 0.753011, validation accuracy 0.878788\n",
      "learning rate: 0.00067018590600674\n"
     ]
    }
   ],
   "source": [
    "for i in range(n_epochs):\n",
    "    batch_start = 0\n",
    "    batch_end = batch_size\n",
    "    for j in range(n_batches):\n",
    "        batch_images, batch_labels = X_train[batch_start:batch_end, :], y_train[batch_start:batch_end, :]\n",
    "        sess.run(train_step, feed_dict={x: batch_images, \n",
    "                                        y_: batch_labels,\n",
    "                                        keep_proba: 0.8})\n",
    "        batch_start += batch_size\n",
    "        batch_end += batch_size\n",
    "        \n",
    "    learning_rate *= decay_rate\n",
    "    train_loss, train_accuracy = sess.run([loss, accuracy], \n",
    "                                          feed_dict={x: X_train, \n",
    "                                                     y_: y_train,\n",
    "                                                     keep_proba: 1.0})\n",
    "    #results[\"train_loss\"].append(train_loss)\n",
    "    #results[\"train_acc\"].append(train_accuracy)\n",
    "\n",
    "    val_loss, val_accuracy = sess.run([loss, accuracy], \n",
    "                                      feed_dict={x: X_test,\n",
    "                                                 y_: y_test, \n",
    "                                                 keep_proba: 1.0})\n",
    "    #results[\"val_loss\"].append(val_loss)\n",
    "    #results[\"val_acc\"].append(val_accuracy)\n",
    "    \n",
    "    if val_accuracy > max_accuracy:\n",
    "        print(\"Save the current model!\")\n",
    "        max_accuracy = val_accuracy\n",
    "        \n",
    "        saver.save(sess, save_ckps_dir)\n",
    "    \n",
    "    if (i+1) % display_step == 0:\n",
    "        print('Epoch %d, training loss: %g, training accuracy: %g' % (i, train_loss, train_accuracy))\n",
    "        print('Epoch %d, validation loss: %g, validation accuracy %g' % (i, val_loss, val_accuracy))\n",
    "        print('learning rate: {}'.format(learning_rate))"
   ]
  },
  {
   "cell_type": "code",
   "execution_count": 77,
   "metadata": {},
   "outputs": [],
   "source": [
    "from tensorflow.saved_model import signature_def_utils, signature_constants, tag_constants\n",
    "from tensorflow.saved_model import utils as save_model_utils"
   ]
  },
  {
   "cell_type": "code",
   "execution_count": 78,
   "metadata": {},
   "outputs": [],
   "source": [
    "savemodel_file_path = \"./savedmodel/mnist_air_dnn\""
   ]
  },
  {
   "cell_type": "code",
   "execution_count": 79,
   "metadata": {},
   "outputs": [],
   "source": [
    "x_op = sess.graph.get_operation_by_name('x')\n",
    "x_node = x_op.outputs[0]\n",
    "pred_op = sess.graph.get_operation_by_name('fc3/y_proba')\n",
    "pred = pred_op.outputs[0]"
   ]
  },
  {
   "cell_type": "code",
   "execution_count": 80,
   "metadata": {},
   "outputs": [
    {
     "name": "stderr",
     "output_type": "stream",
     "text": [
      "W1118 16:36:16.490936 4395943360 deprecation.py:323] From <ipython-input-80-9cbaaab7d65e>:2: build_tensor_info (from tensorflow.python.saved_model.utils_impl) is deprecated and will be removed in a future version.\n",
      "Instructions for updating:\n",
      "This function will only be available through the v1 compatibility library as tf.compat.v1.saved_model.utils.build_tensor_info or tf.compat.v1.saved_model.build_tensor_info.\n"
     ]
    }
   ],
   "source": [
    "prediction_signature = signature_def_utils.build_signature_def(\n",
    "    inputs={\"input\": save_model_utils.build_tensor_info(x)},\n",
    "    outputs={\"output\":save_model_utils.build_tensor_info(pred)},\n",
    "    method_name=signature_constants.PREDICT_METHOD_NAME)"
   ]
  },
  {
   "cell_type": "code",
   "execution_count": 81,
   "metadata": {},
   "outputs": [
    {
     "data": {
      "text/plain": [
       "b'./savedmodel/mnist_air_dnn/saved_model.pb'"
      ]
     },
     "execution_count": 81,
     "metadata": {},
     "output_type": "execute_result"
    }
   ],
   "source": [
    "builder = tf.saved_model.builder.SavedModelBuilder(savemodel_file_path)\n",
    "builder.add_meta_graph_and_variables(sess, [tag_constants.SERVING], \n",
    "                                     signature_def_map={\"predict\": prediction_signature})\n",
    "builder.save()"
   ]
  },
  {
   "cell_type": "code",
   "execution_count": 81,
   "metadata": {},
   "outputs": [],
   "source": [
    "sess.close()"
   ]
  },
  {
   "cell_type": "code",
   "execution_count": null,
   "metadata": {},
   "outputs": [],
   "source": []
  }
 ],
 "metadata": {
  "kernelspec": {
   "display_name": "Python [conda env:tensorflow_cpu]",
   "language": "python",
   "name": "conda-env-tensorflow_cpu-py"
  },
  "language_info": {
   "codemirror_mode": {
    "name": "ipython",
    "version": 3
   },
   "file_extension": ".py",
   "mimetype": "text/x-python",
   "name": "python",
   "nbconvert_exporter": "python",
   "pygments_lexer": "ipython3",
   "version": "3.6.7"
  }
 },
 "nbformat": 4,
 "nbformat_minor": 4
}
