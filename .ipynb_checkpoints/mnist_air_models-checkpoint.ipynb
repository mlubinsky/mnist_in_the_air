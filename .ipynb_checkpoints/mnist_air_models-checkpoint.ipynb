{
 "cells": [
  {
   "cell_type": "code",
   "execution_count": 2,
   "metadata": {},
   "outputs": [],
   "source": [
    "import numpy as np\n",
    "import pandas as pd\n",
    "import pickle\n",
    "import tensorflow as tf\n",
    "from matplotlib import pyplot as plt"
   ]
  },
  {
   "cell_type": "code",
   "execution_count": 3,
   "metadata": {},
   "outputs": [],
   "source": [
    "from sklearn.ensemble import RandomForestClassifier\n",
    "from sklearn.svm import SVC\n",
    "from sklearn.linear_model import LogisticRegression\n",
    "from sklearn.metrics import confusion_matrix"
   ]
  },
  {
   "cell_type": "code",
   "execution_count": 4,
   "metadata": {},
   "outputs": [],
   "source": [
    "%matplotlib inline"
   ]
  },
  {
   "cell_type": "code",
   "execution_count": 5,
   "metadata": {},
   "outputs": [
    {
     "data": {
      "text/plain": [
       "'1.14.0'"
      ]
     },
     "execution_count": 5,
     "metadata": {},
     "output_type": "execute_result"
    }
   ],
   "source": [
    "tf.__version__"
   ]
  },
  {
   "cell_type": "code",
   "execution_count": 6,
   "metadata": {},
   "outputs": [],
   "source": [
    "# Downsampling + Zero padding\n",
    "def preprocess(input_size, raw_data, downsample='random', \n",
    "               padding='begin', random_seed=11):\n",
    "    \"\"\"\n",
    "    Preprocess each data point of raw_data with certain rules given input_size.\n",
    "    If input_size < raw_data[i].shape[0], downsample with 'random' or 'equal_space';\n",
    "    If input_size > raw_data[i].shape[0], pad with zeros to the 'beginning' or 'end' or 'both'\n",
    "    As raw_data[i] has dim of m*3, padding [0, 0, 0] to it\n",
    "    \"\"\"\n",
    "    sampled_data = []\n",
    "    \n",
    "    for elem in raw_data:\n",
    "        if input_size < elem.shape[0]:\n",
    "            if downsample == 'random':\n",
    "                np.random.seed(random_seed)\n",
    "                # randomly sampling the indices for each matrix\n",
    "                random_idx = np.random.randint(0, elem.shape[0], input_size)\n",
    "                # sort the indices to match the timestamps\n",
    "                random_idx.sort()\n",
    "            else:\n",
    "                # add \"equal_space\"\n",
    "                random_idx = range(input_size)\n",
    "                pass\n",
    "            sampled_data.append(np.array(elem[random_idx, :]))\n",
    "        elif input_size > elem.shape[0]:\n",
    "            padding_size = input_size - elem.shape[0]\n",
    "            padding_matrix = np.zeros(dtype=np.float32, \n",
    "                                      shape=(padding_size, elem.shape[1]))\n",
    "            #padding_matrix = np.asarray([0.0]*elem.shape[1]*padding_size, \n",
    "                                        #dtype=np.float32).reshape(-1, elem.shape[1])\n",
    "            if padding == 'end':\n",
    "                sampled_data.append(np.vstack([elem, padding_matrix]))\n",
    "            elif padding == 'begin':\n",
    "                sampled_data.append(np.vstack([padding_matrix, elem]))\n",
    "            else:\n",
    "                # need to implement adding to both ends\n",
    "                sampled_data.append(np.vstack([elem, padding_matrix]))\n",
    "                pass\n",
    "        else:\n",
    "            sampled_data.append(elem)\n",
    "    \n",
    "    return sampled_data"
   ]
  },
  {
   "cell_type": "code",
   "execution_count": 7,
   "metadata": {},
   "outputs": [],
   "source": [
    "# Shuffling and Splitting\n",
    "from sklearn.preprocessing import PolynomialFeatures\n",
    "def split_data(sampled_data, label, n_classes=10, train_idx=240,\n",
    "               shuffle=True, feature='linear', degree=3, \n",
    "               norm=False, random_seed=11):  \n",
    "    \"\"\"\n",
    "    sampled_data is a list of matrices\n",
    "    The function shuffles X+y\n",
    "    splits from train_idx\n",
    "    normalize data\n",
    "    extend features\n",
    "    return 4 matrices\n",
    "    \"\"\"\n",
    "    sample_size = len(sampled_data)\n",
    "    y = np.eye(num_classes)[np.array(label)]\n",
    "    if feature == 'linear':\n",
    "        X = np.asarray(sampled_data, dtype=np.float32).reshape(sample_size, -1)\n",
    "    elif feature == 'poly':\n",
    "        tmp_sampled_poly = []\n",
    "        for elem in sampled_data:\n",
    "            poly = PolynomialFeatures(degree=degree)\n",
    "            tmp_sampled_poly.append(poly.fit_transform(elem))\n",
    "        X = np.asarray(tmp_sampled_poly, dtype=np.float32).reshape(sample_size, -1)\n",
    "    \n",
    "    #print(X.shape, y.shape)\n",
    "    tmp = np.hstack([X, y])\n",
    "    np.random.seed(random_seed)\n",
    "    np.random.shuffle(tmp)\n",
    "    X = tmp[:, :-num_classes]\n",
    "    y = tmp[:, -num_classes:]\n",
    "    \n",
    "    if norm:\n",
    "        # normalize the acceleration data\n",
    "        X = (X + ACCELERATION_BASE) / (2 * ACCELERATION_BASE)\n",
    "    \n",
    "    X_train, X_test = X[:train_idx, :], X[train_idx:, :]\n",
    "    y_train, y_test = y[:train_idx, :], y[train_idx:, :]\n",
    "    \n",
    "    return X_train, X_test, y_train, y_test"
   ]
  },
  {
   "cell_type": "markdown",
   "metadata": {},
   "source": [
    "### Training set"
   ]
  },
  {
   "cell_type": "code",
   "execution_count": 19,
   "metadata": {},
   "outputs": [],
   "source": [
    "num_classes = 10"
   ]
  },
  {
   "cell_type": "code",
   "execution_count": 8,
   "metadata": {},
   "outputs": [],
   "source": [
    "# the data from a few people\n",
    "with open('x_raw.pickle', 'rb') as handle:\n",
    "    x_raw = pickle.load(handle)\n",
    "with open('label.pickle', 'rb') as handle:\n",
    "    label = pickle.load(handle)"
   ]
  },
  {
   "cell_type": "code",
   "execution_count": 10,
   "metadata": {},
   "outputs": [
    {
     "name": "stdout",
     "output_type": "stream",
     "text": [
      "409 409\n"
     ]
    }
   ],
   "source": [
    "print(len(x_raw), len(label))"
   ]
  },
  {
   "cell_type": "code",
   "execution_count": 11,
   "metadata": {},
   "outputs": [
    {
     "data": {
      "text/plain": [
       "(409, 130, 3)"
      ]
     },
     "execution_count": 11,
     "metadata": {},
     "output_type": "execute_result"
    }
   ],
   "source": [
    "tmp = np.asarray(preprocess(130, x_raw))\n",
    "tmp.shape"
   ]
  },
  {
   "cell_type": "code",
   "execution_count": 12,
   "metadata": {},
   "outputs": [
    {
     "data": {
      "text/plain": [
       "(409, 130, 3)"
      ]
     },
     "execution_count": 12,
     "metadata": {},
     "output_type": "execute_result"
    }
   ],
   "source": [
    "np.asarray(tmp, dtype=np.float32).shape"
   ]
  },
  {
   "cell_type": "code",
   "execution_count": 13,
   "metadata": {},
   "outputs": [
    {
     "data": {
      "text/html": [
       "<div>\n",
       "<style scoped>\n",
       "    .dataframe tbody tr th:only-of-type {\n",
       "        vertical-align: middle;\n",
       "    }\n",
       "\n",
       "    .dataframe tbody tr th {\n",
       "        vertical-align: top;\n",
       "    }\n",
       "\n",
       "    .dataframe thead th {\n",
       "        text-align: right;\n",
       "    }\n",
       "</style>\n",
       "<table border=\"1\" class=\"dataframe\">\n",
       "  <thead>\n",
       "    <tr style=\"text-align: right;\">\n",
       "      <th></th>\n",
       "      <th>0</th>\n",
       "      <th>1</th>\n",
       "      <th>2</th>\n",
       "    </tr>\n",
       "  </thead>\n",
       "  <tbody>\n",
       "    <tr>\n",
       "      <th>count</th>\n",
       "      <td>53170.000000</td>\n",
       "      <td>53170.000000</td>\n",
       "      <td>53170.000000</td>\n",
       "    </tr>\n",
       "    <tr>\n",
       "      <th>mean</th>\n",
       "      <td>0.035592</td>\n",
       "      <td>9.158223</td>\n",
       "      <td>1.974277</td>\n",
       "    </tr>\n",
       "    <tr>\n",
       "      <th>std</th>\n",
       "      <td>2.539733</td>\n",
       "      <td>2.464508</td>\n",
       "      <td>3.084250</td>\n",
       "    </tr>\n",
       "    <tr>\n",
       "      <th>min</th>\n",
       "      <td>-37.993828</td>\n",
       "      <td>-14.582974</td>\n",
       "      <td>-15.632605</td>\n",
       "    </tr>\n",
       "    <tr>\n",
       "      <th>25%</th>\n",
       "      <td>-0.977975</td>\n",
       "      <td>8.405932</td>\n",
       "      <td>-0.075403</td>\n",
       "    </tr>\n",
       "    <tr>\n",
       "      <th>50%</th>\n",
       "      <td>-0.017688</td>\n",
       "      <td>9.496098</td>\n",
       "      <td>1.511807</td>\n",
       "    </tr>\n",
       "    <tr>\n",
       "      <th>75%</th>\n",
       "      <td>0.925596</td>\n",
       "      <td>10.080967</td>\n",
       "      <td>3.392430</td>\n",
       "    </tr>\n",
       "    <tr>\n",
       "      <th>max</th>\n",
       "      <td>22.493359</td>\n",
       "      <td>31.003674</td>\n",
       "      <td>42.073589</td>\n",
       "    </tr>\n",
       "  </tbody>\n",
       "</table>\n",
       "</div>"
      ],
      "text/plain": [
       "                  0             1             2\n",
       "count  53170.000000  53170.000000  53170.000000\n",
       "mean       0.035592      9.158223      1.974277\n",
       "std        2.539733      2.464508      3.084250\n",
       "min      -37.993828    -14.582974    -15.632605\n",
       "25%       -0.977975      8.405932     -0.075403\n",
       "50%       -0.017688      9.496098      1.511807\n",
       "75%        0.925596     10.080967      3.392430\n",
       "max       22.493359     31.003674     42.073589"
      ]
     },
     "execution_count": 13,
     "metadata": {},
     "output_type": "execute_result"
    }
   ],
   "source": [
    "pd.DataFrame(np.asarray(tmp, dtype=np.float32).reshape(-1, 3)).describe()"
   ]
  },
  {
   "cell_type": "markdown",
   "metadata": {},
   "source": [
    "### Test set 1"
   ]
  },
  {
   "cell_type": "code",
   "execution_count": 14,
   "metadata": {},
   "outputs": [],
   "source": [
    "# S\n",
    "with open('test1_x_raw.pickle', 'rb') as handle:\n",
    "    test1_x_raw = pickle.load(handle)\n",
    "with open('test1_label.pickle', 'rb') as handle:\n",
    "    test1_label = pickle.load(handle)"
   ]
  },
  {
   "cell_type": "code",
   "execution_count": 15,
   "metadata": {},
   "outputs": [
    {
     "name": "stdout",
     "output_type": "stream",
     "text": [
      "19 19\n"
     ]
    }
   ],
   "source": [
    "print(len(test1_x_raw), len(test1_label))"
   ]
  },
  {
   "cell_type": "code",
   "execution_count": 16,
   "metadata": {},
   "outputs": [
    {
     "data": {
      "text/plain": [
       "(19, 130, 3)"
      ]
     },
     "execution_count": 16,
     "metadata": {},
     "output_type": "execute_result"
    }
   ],
   "source": [
    "tmp = np.asarray(preprocess(130, test1_x_raw))\n",
    "tmp.shape"
   ]
  },
  {
   "cell_type": "code",
   "execution_count": 17,
   "metadata": {},
   "outputs": [
    {
     "data": {
      "text/plain": [
       "(19, 390)"
      ]
     },
     "execution_count": 17,
     "metadata": {},
     "output_type": "execute_result"
    }
   ],
   "source": [
    "test1_X = np.asarray(tmp, dtype=np.float32).reshape(tmp.shape[0], -1)\n",
    "test1_X.shape"
   ]
  },
  {
   "cell_type": "code",
   "execution_count": 20,
   "metadata": {},
   "outputs": [
    {
     "data": {
      "text/plain": [
       "(19, 10)"
      ]
     },
     "execution_count": 20,
     "metadata": {},
     "output_type": "execute_result"
    }
   ],
   "source": [
    "test1_y = np.eye(num_classes)[np.array(test1_label)]\n",
    "test1_y.shape"
   ]
  },
  {
   "cell_type": "markdown",
   "metadata": {},
   "source": [
    "### Test set 2"
   ]
  },
  {
   "cell_type": "code",
   "execution_count": 21,
   "metadata": {},
   "outputs": [
    {
     "name": "stdout",
     "output_type": "stream",
     "text": [
      "57 57\n"
     ]
    }
   ],
   "source": [
    "# S\n",
    "with open('test2_x_raw.pickle', 'rb') as handle:\n",
    "    test2_x_raw = pickle.load(handle)\n",
    "with open('test2_label.pickle', 'rb') as handle:\n",
    "    test2_label = pickle.load(handle)\n",
    "print(len(test2_x_raw), len(test2_label))"
   ]
  },
  {
   "cell_type": "code",
   "execution_count": 22,
   "metadata": {},
   "outputs": [
    {
     "name": "stdout",
     "output_type": "stream",
     "text": [
      "(57, 130, 3)\n",
      "(57, 390)\n",
      "(57, 10)\n"
     ]
    }
   ],
   "source": [
    "tmp = np.asarray(preprocess(130, test2_x_raw))\n",
    "print(tmp.shape)\n",
    "test2_X = np.asarray(tmp, dtype=np.float32).reshape(tmp.shape[0], -1)\n",
    "print(test2_X.shape)\n",
    "test2_y = np.eye(num_classes)[np.array(test2_label)]\n",
    "print(test2_y.shape)"
   ]
  },
  {
   "cell_type": "markdown",
   "metadata": {},
   "source": [
    "### Test set 3"
   ]
  },
  {
   "cell_type": "code",
   "execution_count": 23,
   "metadata": {},
   "outputs": [
    {
     "name": "stdout",
     "output_type": "stream",
     "text": [
      "22 22\n"
     ]
    }
   ],
   "source": [
    "# Z\n",
    "with open('test3_x_raw.pickle', 'rb') as handle:\n",
    "    test3_x_raw = pickle.load(handle)\n",
    "with open('test3_label.pickle', 'rb') as handle:\n",
    "    test3_label = pickle.load(handle)\n",
    "print(len(test3_x_raw), len(test3_label))"
   ]
  },
  {
   "cell_type": "code",
   "execution_count": 24,
   "metadata": {},
   "outputs": [
    {
     "data": {
      "text/plain": [
       "(22, 130, 3)"
      ]
     },
     "execution_count": 24,
     "metadata": {},
     "output_type": "execute_result"
    }
   ],
   "source": [
    "tmp = np.asarray(preprocess(130, test3_x_raw))\n",
    "tmp.shape"
   ]
  },
  {
   "cell_type": "code",
   "execution_count": 25,
   "metadata": {},
   "outputs": [
    {
     "data": {
      "text/plain": [
       "(22, 390)"
      ]
     },
     "execution_count": 25,
     "metadata": {},
     "output_type": "execute_result"
    }
   ],
   "source": [
    "test3_X = np.asarray(tmp, dtype=np.float32).reshape(tmp.shape[0], -1)\n",
    "test3_X.shape"
   ]
  },
  {
   "cell_type": "code",
   "execution_count": 26,
   "metadata": {},
   "outputs": [
    {
     "data": {
      "text/plain": [
       "(22, 10)"
      ]
     },
     "execution_count": 26,
     "metadata": {},
     "output_type": "execute_result"
    }
   ],
   "source": [
    "test3_y = np.eye(num_classes)[np.array(test3_label)]\n",
    "test3_y.shape"
   ]
  },
  {
   "cell_type": "markdown",
   "metadata": {},
   "source": [
    "### Test set 4"
   ]
  },
  {
   "cell_type": "code",
   "execution_count": 27,
   "metadata": {},
   "outputs": [
    {
     "name": "stdout",
     "output_type": "stream",
     "text": [
      "92 92\n"
     ]
    }
   ],
   "source": [
    "# K\n",
    "with open('test4_x_raw.pickle', 'rb') as handle:\n",
    "    test4_x_raw = pickle.load(handle)\n",
    "with open('test4_label.pickle', 'rb') as handle:\n",
    "    test4_label = pickle.load(handle)\n",
    "print(len(test4_x_raw), len(test4_label))"
   ]
  },
  {
   "cell_type": "code",
   "execution_count": 28,
   "metadata": {},
   "outputs": [
    {
     "name": "stdout",
     "output_type": "stream",
     "text": [
      "(92, 130, 3)\n",
      "(92, 390)\n",
      "(92, 10)\n"
     ]
    }
   ],
   "source": [
    "tmp = np.asarray(preprocess(130, test4_x_raw))\n",
    "print(tmp.shape)\n",
    "test4_X = np.asarray(tmp, dtype=np.float32).reshape(tmp.shape[0], -1)\n",
    "print(test4_X.shape)\n",
    "test4_y = np.eye(num_classes)[np.array(test4_label)]\n",
    "print(test4_y.shape)"
   ]
  },
  {
   "cell_type": "markdown",
   "metadata": {},
   "source": [
    "### Test set 5"
   ]
  },
  {
   "cell_type": "code",
   "execution_count": 167,
   "metadata": {},
   "outputs": [
    {
     "name": "stdout",
     "output_type": "stream",
     "text": [
      "139 139\n"
     ]
    }
   ],
   "source": [
    "# Y\n",
    "with open('test5_x_raw.pickle', 'rb') as handle:\n",
    "    test5_x_raw = pickle.load(handle)\n",
    "with open('test5_label.pickle', 'rb') as handle:\n",
    "    test5_label = pickle.load(handle)\n",
    "print(len(test5_x_raw), len(test5_label))"
   ]
  },
  {
   "cell_type": "code",
   "execution_count": 168,
   "metadata": {},
   "outputs": [
    {
     "name": "stdout",
     "output_type": "stream",
     "text": [
      "(139, 130, 3)\n",
      "(139, 390)\n",
      "(139, 10)\n"
     ]
    }
   ],
   "source": [
    "tmp = np.asarray(preprocess(130, test5_x_raw))\n",
    "print(tmp.shape)\n",
    "test5_X = np.asarray(tmp, dtype=np.float32).reshape(tmp.shape[0], -1)\n",
    "print(test5_X.shape)\n",
    "test5_y = np.eye(num_classes)[np.array(test5_label)]\n",
    "print(test5_y.shape)"
   ]
  },
  {
   "cell_type": "markdown",
   "metadata": {},
   "source": [
    "#### Test set 6"
   ]
  },
  {
   "cell_type": "code",
   "execution_count": 108,
   "metadata": {},
   "outputs": [
    {
     "name": "stdout",
     "output_type": "stream",
     "text": [
      "10 10\n"
     ]
    }
   ],
   "source": [
    "# J\n",
    "with open('test6_x_raw.pickle', 'rb') as handle:\n",
    "    test6_x_raw = pickle.load(handle)\n",
    "with open('test6_label.pickle', 'rb') as handle:\n",
    "    test6_label = pickle.load(handle)\n",
    "print(len(test6_x_raw), len(test6_label))"
   ]
  },
  {
   "cell_type": "code",
   "execution_count": 109,
   "metadata": {},
   "outputs": [
    {
     "name": "stdout",
     "output_type": "stream",
     "text": [
      "(10, 130, 3)\n",
      "(10, 390)\n",
      "(10, 10)\n"
     ]
    }
   ],
   "source": [
    "tmp = np.asarray(preprocess(130, test6_x_raw))\n",
    "print(tmp.shape)\n",
    "test6_X = np.asarray(tmp, dtype=np.float32).reshape(tmp.shape[0], -1)\n",
    "print(test6_X.shape)\n",
    "test6_y = np.eye(num_classes)[np.array(test6_label)]\n",
    "print(test6_y.shape)"
   ]
  },
  {
   "cell_type": "markdown",
   "metadata": {},
   "source": [
    "### Sample size distribution"
   ]
  },
  {
   "cell_type": "code",
   "execution_count": 29,
   "metadata": {},
   "outputs": [
    {
     "name": "stdout",
     "output_type": "stream",
     "text": [
      "354 80 177.0\n"
     ]
    }
   ],
   "source": [
    "sample_size_list = [m.shape[0] for m in x_raw]\n",
    "print(np.max(sample_size_list), min(sample_size_list), np.median(sample_size_list))"
   ]
  },
  {
   "cell_type": "code",
   "execution_count": 30,
   "metadata": {},
   "outputs": [
    {
     "data": {
      "text/plain": [
       "count    409.000000\n",
       "mean     179.158924\n",
       "std       38.527195\n",
       "min       80.000000\n",
       "25%      157.000000\n",
       "50%      177.000000\n",
       "75%      197.000000\n",
       "max      354.000000\n",
       "dtype: float64"
      ]
     },
     "execution_count": 30,
     "metadata": {},
     "output_type": "execute_result"
    }
   ],
   "source": [
    "pd.Series(sample_size_list).describe()"
   ]
  },
  {
   "cell_type": "code",
   "execution_count": 31,
   "metadata": {},
   "outputs": [
    {
     "data": {
      "image/png": "[encoded data removed]",
      "text/plain": [
       "<Figure size 432x288 with 1 Axes>"
      ]
     },
     "metadata": {},
     "output_type": "display_data"
    }
   ],
   "source": [
    "pd.Series(sample_size_list).hist()\n",
    "plt.show()"
   ]
  },
  {
   "cell_type": "markdown",
   "metadata": {},
   "source": [
    "### Normalization parameters\n",
    "* Normalize based on all the training data\n",
    "* Normalize based on one sample"
   ]
  },
  {
   "cell_type": "code",
   "execution_count": 147,
   "metadata": {},
   "outputs": [
    {
     "data": {
      "text/plain": [
       "59892"
      ]
     },
     "execution_count": 147,
     "metadata": {},
     "output_type": "execute_result"
    }
   ],
   "source": [
    "np.sum([len(elem) for elem in x_raw])"
   ]
  },
  {
   "cell_type": "code",
   "execution_count": 148,
   "metadata": {},
   "outputs": [
    {
     "data": {
      "text/plain": [
       "(59892, 3)"
      ]
     },
     "execution_count": 148,
     "metadata": {},
     "output_type": "execute_result"
    }
   ],
   "source": [
    "all_measures = np.vstack(x_raw)\n",
    "all_measures.shape"
   ]
  },
  {
   "cell_type": "code",
   "execution_count": 149,
   "metadata": {},
   "outputs": [
    {
     "data": {
      "text/html": [
       "<div>\n",
       "<style scoped>\n",
       "    .dataframe tbody tr th:only-of-type {\n",
       "        vertical-align: middle;\n",
       "    }\n",
       "\n",
       "    .dataframe tbody tr th {\n",
       "        vertical-align: top;\n",
       "    }\n",
       "\n",
       "    .dataframe thead th {\n",
       "        text-align: right;\n",
       "    }\n",
       "</style>\n",
       "<table border=\"1\" class=\"dataframe\">\n",
       "  <thead>\n",
       "    <tr style=\"text-align: right;\">\n",
       "      <th></th>\n",
       "      <th>0</th>\n",
       "      <th>1</th>\n",
       "      <th>2</th>\n",
       "    </tr>\n",
       "  </thead>\n",
       "  <tbody>\n",
       "    <tr>\n",
       "      <th>0</th>\n",
       "      <td>-0.650786</td>\n",
       "      <td>8.672620</td>\n",
       "      <td>2.735614</td>\n",
       "    </tr>\n",
       "    <tr>\n",
       "      <th>1</th>\n",
       "      <td>-0.646007</td>\n",
       "      <td>9.020245</td>\n",
       "      <td>1.991753</td>\n",
       "    </tr>\n",
       "    <tr>\n",
       "      <th>2</th>\n",
       "      <td>-0.245752</td>\n",
       "      <td>9.953596</td>\n",
       "      <td>1.516244</td>\n",
       "    </tr>\n",
       "    <tr>\n",
       "      <th>3</th>\n",
       "      <td>-0.269562</td>\n",
       "      <td>9.853595</td>\n",
       "      <td>1.271427</td>\n",
       "    </tr>\n",
       "    <tr>\n",
       "      <th>4</th>\n",
       "      <td>-0.507788</td>\n",
       "      <td>9.220248</td>\n",
       "      <td>1.859917</td>\n",
       "    </tr>\n",
       "  </tbody>\n",
       "</table>\n",
       "</div>"
      ],
      "text/plain": [
       "          0         1         2\n",
       "0 -0.650786  8.672620  2.735614\n",
       "1 -0.646007  9.020245  1.991753\n",
       "2 -0.245752  9.953596  1.516244\n",
       "3 -0.269562  9.853595  1.271427\n",
       "4 -0.507788  9.220248  1.859917"
      ]
     },
     "execution_count": 149,
     "metadata": {},
     "output_type": "execute_result"
    }
   ],
   "source": [
    "pd.DataFrame(all_measures).head()"
   ]
  },
  {
   "cell_type": "code",
   "execution_count": 150,
   "metadata": {},
   "outputs": [
    {
     "data": {
      "text/html": [
       "<div>\n",
       "<style scoped>\n",
       "    .dataframe tbody tr th:only-of-type {\n",
       "        vertical-align: middle;\n",
       "    }\n",
       "\n",
       "    .dataframe tbody tr th {\n",
       "        vertical-align: top;\n",
       "    }\n",
       "\n",
       "    .dataframe thead th {\n",
       "        text-align: right;\n",
       "    }\n",
       "</style>\n",
       "<table border=\"1\" class=\"dataframe\">\n",
       "  <thead>\n",
       "    <tr style=\"text-align: right;\">\n",
       "      <th></th>\n",
       "      <th>0</th>\n",
       "      <th>1</th>\n",
       "      <th>2</th>\n",
       "    </tr>\n",
       "  </thead>\n",
       "  <tbody>\n",
       "    <tr>\n",
       "      <th>count</th>\n",
       "      <td>59892.000000</td>\n",
       "      <td>59892.000000</td>\n",
       "      <td>59892.000000</td>\n",
       "    </tr>\n",
       "    <tr>\n",
       "      <th>mean</th>\n",
       "      <td>0.526326</td>\n",
       "      <td>9.045754</td>\n",
       "      <td>1.777572</td>\n",
       "    </tr>\n",
       "    <tr>\n",
       "      <th>std</th>\n",
       "      <td>3.235481</td>\n",
       "      <td>2.454735</td>\n",
       "      <td>3.173017</td>\n",
       "    </tr>\n",
       "    <tr>\n",
       "      <th>min</th>\n",
       "      <td>-19.095837</td>\n",
       "      <td>-5.993770</td>\n",
       "      <td>-19.493973</td>\n",
       "    </tr>\n",
       "    <tr>\n",
       "      <th>25%</th>\n",
       "      <td>-0.778081</td>\n",
       "      <td>8.100900</td>\n",
       "      <td>-0.571157</td>\n",
       "    </tr>\n",
       "    <tr>\n",
       "      <th>50%</th>\n",
       "      <td>0.008671</td>\n",
       "      <td>9.448774</td>\n",
       "      <td>0.932222</td>\n",
       "    </tr>\n",
       "    <tr>\n",
       "      <th>75%</th>\n",
       "      <td>1.549461</td>\n",
       "      <td>9.911268</td>\n",
       "      <td>3.685230</td>\n",
       "    </tr>\n",
       "    <tr>\n",
       "      <th>max</th>\n",
       "      <td>21.832770</td>\n",
       "      <td>26.639984</td>\n",
       "      <td>27.129606</td>\n",
       "    </tr>\n",
       "  </tbody>\n",
       "</table>\n",
       "</div>"
      ],
      "text/plain": [
       "                  0             1             2\n",
       "count  59892.000000  59892.000000  59892.000000\n",
       "mean       0.526326      9.045754      1.777572\n",
       "std        3.235481      2.454735      3.173017\n",
       "min      -19.095837     -5.993770    -19.493973\n",
       "25%       -0.778081      8.100900     -0.571157\n",
       "50%        0.008671      9.448774      0.932222\n",
       "75%        1.549461      9.911268      3.685230\n",
       "max       21.832770     26.639984     27.129606"
      ]
     },
     "execution_count": 150,
     "metadata": {},
     "output_type": "execute_result"
    }
   ],
   "source": [
    "pd.DataFrame(all_measures).describe()"
   ]
  },
  {
   "cell_type": "code",
   "execution_count": 42,
   "metadata": {},
   "outputs": [],
   "source": [
    "# the base acceleration is 4g, ~40 m/s^2, normalize data based on it\n",
    "ACCELERATION_BASE = 40.0"
   ]
  },
  {
   "cell_type": "markdown",
   "metadata": {},
   "source": [
    "#### Downsampling (random) + zero padding (end) + Splitting"
   ]
  },
  {
   "cell_type": "code",
   "execution_count": 182,
   "metadata": {},
   "outputs": [],
   "source": [
    "input_size = 94\n",
    "x_downsampled = []\n",
    "for elem in x_raw:\n",
    "    np.random.seed(11)\n",
    "    # randomly sampling the indices for each matrix\n",
    "    random_idx = np.random.randint(0, elem.shape[0], input_size)\n",
    "    # sort the indices to match the timestamps\n",
    "    random_idx.sort()\n",
    "    # downsampling\n",
    "    x_downsampled.append(elem[random_idx, :])\n",
    "x_downsampled = np.array(x_downsampled)"
   ]
  },
  {
   "cell_type": "code",
   "execution_count": 183,
   "metadata": {},
   "outputs": [
    {
     "data": {
      "text/plain": [
       "(339, 94, 3)"
      ]
     },
     "execution_count": 183,
     "metadata": {},
     "output_type": "execute_result"
    }
   ],
   "source": [
    "x_downsampled.shape"
   ]
  },
  {
   "cell_type": "code",
   "execution_count": 169,
   "metadata": {},
   "outputs": [],
   "source": [
    "sample_size = x_downsampled.shape[0]"
   ]
  },
  {
   "cell_type": "code",
   "execution_count": 91,
   "metadata": {},
   "outputs": [],
   "source": [
    "x_sampled = preprocess(130, x_raw)"
   ]
  },
  {
   "cell_type": "code",
   "execution_count": 92,
   "metadata": {},
   "outputs": [
    {
     "data": {
      "text/plain": [
       "(350, 130, 3)"
      ]
     },
     "execution_count": 92,
     "metadata": {},
     "output_type": "execute_result"
    }
   ],
   "source": [
    "np.array(x_sampled).shape"
   ]
  },
  {
   "cell_type": "code",
   "execution_count": 189,
   "metadata": {},
   "outputs": [
    {
     "data": {
      "text/plain": [
       "26.647596059000005"
      ]
     },
     "execution_count": 189,
     "metadata": {},
     "output_type": "execute_result"
    }
   ],
   "source": [
    "(x_sampled - x_downsampled).sum()"
   ]
  },
  {
   "cell_type": "code",
   "execution_count": 21,
   "metadata": {},
   "outputs": [],
   "source": [
    "num_classes = 10"
   ]
  },
  {
   "cell_type": "code",
   "execution_count": 93,
   "metadata": {},
   "outputs": [],
   "source": [
    "X_train, X_test, y_train, y_test = split_data(x_sampled, label, random_seed=3)"
   ]
  },
  {
   "cell_type": "code",
   "execution_count": 94,
   "metadata": {},
   "outputs": [
    {
     "data": {
      "text/plain": [
       "(240, 390)"
      ]
     },
     "execution_count": 94,
     "metadata": {},
     "output_type": "execute_result"
    }
   ],
   "source": [
    "X_train.shape"
   ]
  },
  {
   "cell_type": "markdown",
   "metadata": {},
   "source": [
    "#### Input_size vs. Accuracy - SVM"
   ]
  },
  {
   "cell_type": "code",
   "execution_count": 32,
   "metadata": {},
   "outputs": [],
   "source": [
    "input_size_list = range(10, 200, 10)\n",
    "random_seeds = [1, 3, 11, 23, 56, 97]\n",
    "num_classes = 10"
   ]
  },
  {
   "cell_type": "code",
   "execution_count": 33,
   "metadata": {},
   "outputs": [],
   "source": [
    "acc_svm_random_end_unnorm = []\n",
    "\n",
    "for input_size in input_size_list:\n",
    "    for random_seed in random_seeds:\n",
    "        x_sampled = preprocess(input_size, x_raw, padding='end',\n",
    "                               random_seed=random_seed)\n",
    "        #print(\"Input size: {}, random seed: {}, sampled data {}\". format(input_size, random_seed, sampled_data.shape))\n",
    "        X_train, X_test, y_train, y_test = split_data(x_sampled, label, \n",
    "                                                      random_seed=random_seed)\n",
    "        \n",
    "        svc = SVC(C=1.0, kernel='poly', degree=3, decision_function_shape='ovo', gamma='auto')\n",
    "        svc.fit(X_train, np.dot(y_train, range(num_classes)))\n",
    "        acc_svm_random_end_unnorm.append(svc.score(X_test, np.dot(y_test, range(num_classes))))"
   ]
  },
  {
   "cell_type": "code",
   "execution_count": 34,
   "metadata": {},
   "outputs": [],
   "source": [
    "acc_svm_random_begin_unnorm = []\n",
    "\n",
    "for input_size in input_size_list:\n",
    "    for random_seed in random_seeds:\n",
    "        x_sampled = preprocess(input_size, x_raw, padding='begin',\n",
    "                               random_seed=random_seed)\n",
    "        #print(\"Input size: {}, random seed: {}, sampled data {}\". format(input_size, random_seed, sampled_data.shape))\n",
    "        X_train, X_test, y_train, y_test = split_data(x_sampled, label, \n",
    "                                                      random_seed=random_seed)\n",
    "        \n",
    "        svc = SVC(C=1.0, kernel='poly', degree=3, decision_function_shape='ovo', gamma='auto')\n",
    "        svc.fit(X_train, np.dot(y_train, range(num_classes)))\n",
    "        acc_svm_random_begin_unnorm.append(svc.score(X_test, np.dot(y_test, range(num_classes))))"
   ]
  },
  {
   "cell_type": "code",
   "execution_count": 35,
   "metadata": {},
   "outputs": [],
   "source": [
    "def mean_std_acc(acc_list, num_seeds=6):\n",
    "    acc_matrix = np.array(acc_list).reshape(-1, num_seeds)\n",
    "    acc_mean = acc_matrix.mean(axis=1)\n",
    "    acc_std = acc_matrix.std(axis=1)\n",
    "    return acc_mean, acc_std"
   ]
  },
  {
   "cell_type": "code",
   "execution_count": 36,
   "metadata": {},
   "outputs": [],
   "source": [
    "acc_mean_1, acc_std_1 = mean_std_acc(acc_svm_random_end_unnorm)\n",
    "acc_mean_2, acc_std_2 = mean_std_acc(acc_svm_random_begin_unnorm)"
   ]
  },
  {
   "cell_type": "code",
   "execution_count": 37,
   "metadata": {},
   "outputs": [
    {
     "data": {
      "text/plain": [
       "array([0.56706114, 0.6469428 , 0.69230769, 0.69033531, 0.7061144 ,\n",
       "       0.72485207, 0.72189349, 0.734714  , 0.72978304, 0.73964497,\n",
       "       0.75641026, 0.76035503, 0.76232742, 0.7642998 , 0.77613412,\n",
       "       0.75147929, 0.74753452, 0.74161736, 0.74161736])"
      ]
     },
     "execution_count": 37,
     "metadata": {},
     "output_type": "execute_result"
    }
   ],
   "source": [
    "acc_mean_1"
   ]
  },
  {
   "cell_type": "code",
   "execution_count": 38,
   "metadata": {},
   "outputs": [
    {
     "data": {
      "text/plain": [
       "array([0.56706114, 0.6469428 , 0.69230769, 0.69033531, 0.7061144 ,\n",
       "       0.72485207, 0.72189349, 0.734714  , 0.73274162, 0.74457594,\n",
       "       0.7642998 , 0.765286  , 0.77317554, 0.76725838, 0.77416174,\n",
       "       0.7642998 , 0.75936884, 0.75542406, 0.75838264])"
      ]
     },
     "execution_count": 38,
     "metadata": {},
     "output_type": "execute_result"
    }
   ],
   "source": [
    "acc_mean_2"
   ]
  },
  {
   "cell_type": "code",
   "execution_count": 39,
   "metadata": {},
   "outputs": [
    {
     "data": {
      "image/png": "[encoded data removed]",
      "text/plain": [
       "<Figure size 432x288 with 1 Axes>"
      ]
     },
     "metadata": {},
     "output_type": "display_data"
    }
   ],
   "source": [
    "plt.plot(input_size_list, acc_mean_1, '.-')\n",
    "plt.plot(input_size_list, acc_mean_2, '--')\n",
    "plt.show()"
   ]
  },
  {
   "cell_type": "markdown",
   "metadata": {},
   "source": [
    "#### Input_size vs. Accuracy - Logistic regression"
   ]
  },
  {
   "cell_type": "code",
   "execution_count": 77,
   "metadata": {},
   "outputs": [],
   "source": [
    "acc_lg_random_end_unnorm = []\n",
    "\n",
    "for input_size in input_size_list:\n",
    "    for random_seed in random_seeds:\n",
    "        x_sampled = preprocess(input_size, x_raw, padding='end',\n",
    "                               random_seed=random_seed)\n",
    "        #print(\"Input size: {}, random seed: {}, sampled data {}\". format(input_size, random_seed, sampled_data.shape))\n",
    "        X_train, X_test, y_train, y_test = split_data(x_sampled, label, \n",
    "                                                      random_seed=random_seed)\n",
    "        \n",
    "        lg = LogisticRegression(penalty='l2', C=1.0, solver='newton-cg', multi_class='multinomial')\n",
    "        lg.fit(X_train, np.dot(y_train, range(num_classes)))\n",
    "        acc_lg_random_end_unnorm.append(lg.score(X_test, np.dot(y_test, range(num_classes))))"
   ]
  },
  {
   "cell_type": "code",
   "execution_count": 78,
   "metadata": {},
   "outputs": [],
   "source": [
    "acc_lg_random_begin_unnorm = []\n",
    "\n",
    "for input_size in input_size_list:\n",
    "    for random_seed in random_seeds:\n",
    "        x_sampled = preprocess(input_size, x_raw, padding='begin',\n",
    "                               random_seed=random_seed)\n",
    "        #print(\"Input size: {}, random seed: {}, sampled data {}\". format(input_size, random_seed, sampled_data.shape))\n",
    "        X_train, X_test, y_train, y_test = split_data(x_sampled, label, \n",
    "                                                      random_seed=random_seed)\n",
    "        \n",
    "        lg = LogisticRegression(penalty='l2', C=1.0, solver='newton-cg', multi_class='multinomial')\n",
    "        lg.fit(X_train, np.dot(y_train, range(num_classes)))\n",
    "        acc_lg_random_begin_unnorm.append(lg.score(X_test, np.dot(y_test, range(num_classes))))"
   ]
  },
  {
   "cell_type": "code",
   "execution_count": 79,
   "metadata": {},
   "outputs": [],
   "source": [
    "acc_mean_lg1, acc_std_lg1 = mean_std_acc(acc_lg_random_end_unnorm)\n",
    "acc_mean_lg2, acc_std_lg2 = mean_std_acc(acc_lg_random_begin_unnorm)"
   ]
  },
  {
   "cell_type": "code",
   "execution_count": 80,
   "metadata": {},
   "outputs": [
    {
     "data": {
      "text/plain": [
       "array([0.51969697, 0.61666667, 0.68333333, 0.70606061, 0.7030303 ,\n",
       "       0.74545455, 0.76969697, 0.7530303 , 0.78181818, 0.7969697 ,\n",
       "       0.78181818, 0.80151515, 0.78181818, 0.77878788, 0.78484848,\n",
       "       0.77575758, 0.76212121, 0.73636364, 0.71515152])"
      ]
     },
     "execution_count": 80,
     "metadata": {},
     "output_type": "execute_result"
    }
   ],
   "source": [
    "acc_mean_lg1"
   ]
  },
  {
   "cell_type": "code",
   "execution_count": 81,
   "metadata": {},
   "outputs": [
    {
     "data": {
      "text/plain": [
       "array([0.51969697, 0.61666667, 0.68333333, 0.70606061, 0.7030303 ,\n",
       "       0.74545455, 0.76969697, 0.7530303 , 0.78181818, 0.8       ,\n",
       "       0.78181818, 0.8030303 , 0.78939394, 0.80606061, 0.79545455,\n",
       "       0.80151515, 0.79393939, 0.77727273, 0.78181818])"
      ]
     },
     "execution_count": 81,
     "metadata": {},
     "output_type": "execute_result"
    }
   ],
   "source": [
    "acc_mean_lg2"
   ]
  },
  {
   "cell_type": "code",
   "execution_count": 83,
   "metadata": {},
   "outputs": [
    {
     "data": {
      "image/png": "[encoded data removed]",
      "text/plain": [
       "<Figure size 432x288 with 1 Axes>"
      ]
     },
     "metadata": {},
     "output_type": "display_data"
    }
   ],
   "source": [
    "plt.plot(input_size_list, acc_mean_lg1, '.-')\n",
    "plt.plot(input_size_list, acc_mean_lg2, '--')\n",
    "plt.show()"
   ]
  },
  {
   "cell_type": "markdown",
   "metadata": {},
   "source": [
    "#### Random Forest"
   ]
  },
  {
   "cell_type": "code",
   "execution_count": 31,
   "metadata": {},
   "outputs": [
    {
     "data": {
      "text/plain": [
       "RandomForestClassifier(bootstrap=True, class_weight=None, criterion='gini',\n",
       "            max_depth=5, max_features='auto', max_leaf_nodes=None,\n",
       "            min_impurity_decrease=0.0, min_impurity_split=None,\n",
       "            min_samples_leaf=1, min_samples_split=2,\n",
       "            min_weight_fraction_leaf=0.0, n_estimators=50, n_jobs=None,\n",
       "            oob_score=False, random_state=None, verbose=0,\n",
       "            warm_start=False)"
      ]
     },
     "execution_count": 31,
     "metadata": {},
     "output_type": "execute_result"
    }
   ],
   "source": [
    "rf = RandomForestClassifier(n_estimators=50, max_depth=5)\n",
    "rf.fit(X_train, y_train)"
   ]
  },
  {
   "cell_type": "code",
   "execution_count": 32,
   "metadata": {},
   "outputs": [
    {
     "data": {
      "text/plain": [
       "0.8166666666666667"
      ]
     },
     "execution_count": 32,
     "metadata": {},
     "output_type": "execute_result"
    }
   ],
   "source": [
    "rf.score(X_train, y_train)"
   ]
  },
  {
   "cell_type": "code",
   "execution_count": 33,
   "metadata": {},
   "outputs": [
    {
     "data": {
      "text/plain": [
       "0.2828282828282828"
      ]
     },
     "execution_count": 33,
     "metadata": {},
     "output_type": "execute_result"
    }
   ],
   "source": [
    "rf.score(X_test, y_test)"
   ]
  },
  {
   "cell_type": "markdown",
   "metadata": {},
   "source": [
    "#### Logistic Regression"
   ]
  },
  {
   "cell_type": "code",
   "execution_count": 271,
   "metadata": {},
   "outputs": [
    {
     "data": {
      "text/plain": [
       "LogisticRegression(C=1.0, class_weight=None, dual=False, fit_intercept=True,\n",
       "          intercept_scaling=1, max_iter=100, multi_class='multinomial',\n",
       "          n_jobs=None, penalty='l2', random_state=None, solver='newton-cg',\n",
       "          tol=0.0001, verbose=0, warm_start=False)"
      ]
     },
     "execution_count": 271,
     "metadata": {},
     "output_type": "execute_result"
    }
   ],
   "source": [
    "lg = LogisticRegression(penalty='l2', C=1.0, solver='newton-cg', multi_class='multinomial')\n",
    "lg.fit(X_train, np.dot(y_train, range(num_classes)))"
   ]
  },
  {
   "cell_type": "code",
   "execution_count": 272,
   "metadata": {},
   "outputs": [
    {
     "data": {
      "text/plain": [
       "1.0"
      ]
     },
     "execution_count": 272,
     "metadata": {},
     "output_type": "execute_result"
    }
   ],
   "source": [
    "lg.score(X_train, np.dot(y_train, range(num_classes)))"
   ]
  },
  {
   "cell_type": "code",
   "execution_count": 273,
   "metadata": {},
   "outputs": [
    {
     "data": {
      "text/plain": [
       "0.8282828282828283"
      ]
     },
     "execution_count": 273,
     "metadata": {},
     "output_type": "execute_result"
    }
   ],
   "source": [
    "lg.score(X_test, np.dot(y_test, range(num_classes)))"
   ]
  },
  {
   "cell_type": "code",
   "execution_count": 258,
   "metadata": {},
   "outputs": [],
   "source": [
    "cm = confusion_matrix(np.dot(y_test, range(num_classes)), \n",
    "                      lg.predict(X_test))"
   ]
  },
  {
   "cell_type": "code",
   "execution_count": 259,
   "metadata": {},
   "outputs": [],
   "source": [
    "cm_norm = cm.astype('float') / cm.sum(axis=1)[:, np.newaxis]"
   ]
  },
  {
   "cell_type": "code",
   "execution_count": 260,
   "metadata": {},
   "outputs": [
    {
     "data": {
      "text/plain": [
       "array([[12,  0,  0,  0,  0,  0,  0,  0,  0,  1],\n",
       "       [ 0,  7,  0,  0,  0,  0,  0,  0,  0,  0],\n",
       "       [ 0,  0,  6,  0,  0,  0,  0,  0,  0,  0],\n",
       "       [ 0,  0,  0,  9,  0,  0,  0,  0,  0,  0],\n",
       "       [ 0,  0,  0,  0, 11,  0,  0,  0,  0,  0],\n",
       "       [ 1,  0,  0,  0,  1,  9,  0,  0,  2,  0],\n",
       "       [ 0,  1,  0,  0,  0,  0, 13,  0,  0,  0],\n",
       "       [ 0,  2,  0,  0,  0,  0,  0,  5,  0,  0],\n",
       "       [ 0,  0,  0,  0,  0,  0,  0,  0, 11,  0],\n",
       "       [ 0,  1,  0,  1,  0,  0,  0,  0,  0,  6]])"
      ]
     },
     "execution_count": 260,
     "metadata": {},
     "output_type": "execute_result"
    }
   ],
   "source": [
    "cm"
   ]
  },
  {
   "cell_type": "code",
   "execution_count": 261,
   "metadata": {},
   "outputs": [
    {
     "data": {
      "image/png": "[encoded data removed]",
      "text/plain": [
       "<Figure size 576x432 with 1 Axes>"
      ]
     },
     "metadata": {},
     "output_type": "display_data"
    }
   ],
   "source": [
    "plt.figure(figsize=(8, 6))\n",
    "plt.imshow(cm, interpolation='nearest', cmap=plt.cm.Blues)\n",
    "plt.show()"
   ]
  },
  {
   "cell_type": "markdown",
   "metadata": {},
   "source": [
    "#### SVM"
   ]
  },
  {
   "cell_type": "code",
   "execution_count": 49,
   "metadata": {},
   "outputs": [
    {
     "name": "stderr",
     "output_type": "stream",
     "text": [
      "/Users/yuezha01/anaconda3/envs/tensorflow_cpu/lib/python3.6/site-packages/sklearn/svm/base.py:196: FutureWarning: The default value of gamma will change from 'auto' to 'scale' in version 0.22 to account better for unscaled features. Set gamma explicitly to 'auto' or 'scale' to avoid this warning.\n",
      "  \"avoid this warning.\", FutureWarning)\n"
     ]
    },
    {
     "data": {
      "text/plain": [
       "SVC(C=1.0, cache_size=200, class_weight=None, coef0=0.0,\n",
       "  decision_function_shape='ovo', degree=4, gamma='auto_deprecated',\n",
       "  kernel='poly', max_iter=-1, probability=False, random_state=None,\n",
       "  shrinking=True, tol=0.001, verbose=False)"
      ]
     },
     "execution_count": 49,
     "metadata": {},
     "output_type": "execute_result"
    }
   ],
   "source": [
    "svc = SVC(C=1.0, kernel='poly', degree=4, decision_function_shape='ovo')\n",
    "svc.fit(X_train, np.dot(y_train, range(num_classes)))"
   ]
  },
  {
   "cell_type": "code",
   "execution_count": 50,
   "metadata": {},
   "outputs": [
    {
     "data": {
      "text/plain": [
       "1.0"
      ]
     },
     "execution_count": 50,
     "metadata": {},
     "output_type": "execute_result"
    }
   ],
   "source": [
    "svc.score(X_train, np.dot(y_train, range(num_classes)))"
   ]
  },
  {
   "cell_type": "code",
   "execution_count": 51,
   "metadata": {},
   "outputs": [
    {
     "data": {
      "text/plain": [
       "0.8106508875739645"
      ]
     },
     "execution_count": 51,
     "metadata": {},
     "output_type": "execute_result"
    }
   ],
   "source": [
    "svc.score(X_test, np.dot(y_test, range(num_classes)))"
   ]
  },
  {
   "cell_type": "code",
   "execution_count": 52,
   "metadata": {},
   "outputs": [
    {
     "ename": "ValueError",
     "evalue": "X.shape[1] = 390 should be equal to 570, the number of features at training time",
     "output_type": "error",
     "traceback": [
      "\u001b[0;31m--------------------------------------------------\u001b[0m",
      "\u001b[0;31mValueError\u001b[0m       Traceback (most recent call last)",
      "\u001b[0;32m<ipython-input-52-3140ecf7154b>\u001b[0m in \u001b[0;36m<module>\u001b[0;34m()\u001b[0m\n\u001b[0;32m----> 1\u001b[0;31m \u001b[0msvc\u001b[0m\u001b[0;34m.\u001b[0m\u001b[0mscore\u001b[0m\u001b[0;34m(\u001b[0m\u001b[0mtest1_X\u001b[0m\u001b[0;34m,\u001b[0m \u001b[0mnp\u001b[0m\u001b[0;34m.\u001b[0m\u001b[0mdot\u001b[0m\u001b[0;34m(\u001b[0m\u001b[0mtest1_y\u001b[0m\u001b[0;34m,\u001b[0m \u001b[0mrange\u001b[0m\u001b[0;34m(\u001b[0m\u001b[0mnum_classes\u001b[0m\u001b[0;34m)\u001b[0m\u001b[0;34m)\u001b[0m\u001b[0;34m)\u001b[0m\u001b[0;34m\u001b[0m\u001b[0;34m\u001b[0m\u001b[0m\n\u001b[0m",
      "\u001b[0;32m~/anaconda3/envs/tensorflow_cpu/lib/python3.6/site-packages/sklearn/base.py\u001b[0m in \u001b[0;36mscore\u001b[0;34m(self, X, y, sample_weight)\u001b[0m\n\u001b[1;32m    286\u001b[0m         \"\"\"\n\u001b[1;32m    287\u001b[0m         \u001b[0;32mfrom\u001b[0m \u001b[0;34m.\u001b[0m\u001b[0mmetrics\u001b[0m \u001b[0;32mimport\u001b[0m \u001b[0maccuracy_score\u001b[0m\u001b[0;34m\u001b[0m\u001b[0;34m\u001b[0m\u001b[0m\n\u001b[0;32m--> 288\u001b[0;31m         \u001b[0;32mreturn\u001b[0m \u001b[0maccuracy_score\u001b[0m\u001b[0;34m(\u001b[0m\u001b[0my\u001b[0m\u001b[0;34m,\u001b[0m \u001b[0mself\u001b[0m\u001b[0;34m.\u001b[0m\u001b[0mpredict\u001b[0m\u001b[0;34m(\u001b[0m\u001b[0mX\u001b[0m\u001b[0;34m)\u001b[0m\u001b[0;34m,\u001b[0m \u001b[0msample_weight\u001b[0m\u001b[0;34m=\u001b[0m\u001b[0msample_weight\u001b[0m\u001b[0;34m)\u001b[0m\u001b[0;34m\u001b[0m\u001b[0;34m\u001b[0m\u001b[0m\n\u001b[0m\u001b[1;32m    289\u001b[0m \u001b[0;34m\u001b[0m\u001b[0m\n\u001b[1;32m    290\u001b[0m \u001b[0;34m\u001b[0m\u001b[0m\n",
      "\u001b[0;32m~/anaconda3/envs/tensorflow_cpu/lib/python3.6/site-packages/sklearn/svm/base.py\u001b[0m in \u001b[0;36mpredict\u001b[0;34m(self, X)\u001b[0m\n\u001b[1;32m    565\u001b[0m             \u001b[0mClass\u001b[0m \u001b[0mlabels\u001b[0m \u001b[0;32mfor\u001b[0m \u001b[0msamples\u001b[0m \u001b[0;32min\u001b[0m \u001b[0mX\u001b[0m\u001b[0;34m.\u001b[0m\u001b[0;34m\u001b[0m\u001b[0;34m\u001b[0m\u001b[0m\n\u001b[1;32m    566\u001b[0m         \"\"\"\n\u001b[0;32m--> 567\u001b[0;31m         \u001b[0my\u001b[0m \u001b[0;34m=\u001b[0m \u001b[0msuper\u001b[0m\u001b[0;34m(\u001b[0m\u001b[0mBaseSVC\u001b[0m\u001b[0;34m,\u001b[0m \u001b[0mself\u001b[0m\u001b[0;34m)\u001b[0m\u001b[0;34m.\u001b[0m\u001b[0mpredict\u001b[0m\u001b[0;34m(\u001b[0m\u001b[0mX\u001b[0m\u001b[0;34m)\u001b[0m\u001b[0;34m\u001b[0m\u001b[0;34m\u001b[0m\u001b[0m\n\u001b[0m\u001b[1;32m    568\u001b[0m         \u001b[0;32mreturn\u001b[0m \u001b[0mself\u001b[0m\u001b[0;34m.\u001b[0m\u001b[0mclasses_\u001b[0m\u001b[0;34m.\u001b[0m\u001b[0mtake\u001b[0m\u001b[0;34m(\u001b[0m\u001b[0mnp\u001b[0m\u001b[0;34m.\u001b[0m\u001b[0masarray\u001b[0m\u001b[0;34m(\u001b[0m\u001b[0my\u001b[0m\u001b[0;34m,\u001b[0m \u001b[0mdtype\u001b[0m\u001b[0;34m=\u001b[0m\u001b[0mnp\u001b[0m\u001b[0;34m.\u001b[0m\u001b[0mintp\u001b[0m\u001b[0;34m)\u001b[0m\u001b[0;34m)\u001b[0m\u001b[0;34m\u001b[0m\u001b[0;34m\u001b[0m\u001b[0m\n\u001b[1;32m    569\u001b[0m \u001b[0;34m\u001b[0m\u001b[0m\n",
      "\u001b[0;32m~/anaconda3/envs/tensorflow_cpu/lib/python3.6/site-packages/sklearn/svm/base.py\u001b[0m in \u001b[0;36mpredict\u001b[0;34m(self, X)\u001b[0m\n\u001b[1;32m    323\u001b[0m         \u001b[0my_pred\u001b[0m \u001b[0;34m:\u001b[0m \u001b[0marray\u001b[0m\u001b[0;34m,\u001b[0m \u001b[0mshape\u001b[0m \u001b[0;34m(\u001b[0m\u001b[0mn_samples\u001b[0m\u001b[0;34m,\u001b[0m\u001b[0;34m)\u001b[0m\u001b[0;34m\u001b[0m\u001b[0;34m\u001b[0m\u001b[0m\n\u001b[1;32m    324\u001b[0m         \"\"\"\n\u001b[0;32m--> 325\u001b[0;31m         \u001b[0mX\u001b[0m \u001b[0;34m=\u001b[0m \u001b[0mself\u001b[0m\u001b[0;34m.\u001b[0m\u001b[0m_validate_for_predict\u001b[0m\u001b[0;34m(\u001b[0m\u001b[0mX\u001b[0m\u001b[0;34m)\u001b[0m\u001b[0;34m\u001b[0m\u001b[0;34m\u001b[0m\u001b[0m\n\u001b[0m\u001b[1;32m    326\u001b[0m         \u001b[0mpredict\u001b[0m \u001b[0;34m=\u001b[0m \u001b[0mself\u001b[0m\u001b[0;34m.\u001b[0m\u001b[0m_sparse_predict\u001b[0m \u001b[0;32mif\u001b[0m \u001b[0mself\u001b[0m\u001b[0;34m.\u001b[0m\u001b[0m_sparse\u001b[0m \u001b[0;32melse\u001b[0m \u001b[0mself\u001b[0m\u001b[0;34m.\u001b[0m\u001b[0m_dense_predict\u001b[0m\u001b[0;34m\u001b[0m\u001b[0;34m\u001b[0m\u001b[0m\n\u001b[1;32m    327\u001b[0m         \u001b[0;32mreturn\u001b[0m \u001b[0mpredict\u001b[0m\u001b[0;34m(\u001b[0m\u001b[0mX\u001b[0m\u001b[0;34m)\u001b[0m\u001b[0;34m\u001b[0m\u001b[0;34m\u001b[0m\u001b[0m\n",
      "\u001b[0;32m~/anaconda3/envs/tensorflow_cpu/lib/python3.6/site-packages/sklearn/svm/base.py\u001b[0m in \u001b[0;36m_validate_for_predict\u001b[0;34m(self, X)\u001b[0m\n\u001b[1;32m    476\u001b[0m             raise ValueError(\"X.shape[1] = %d should be equal to %d, \"\n\u001b[1;32m    477\u001b[0m                              \u001b[0;34m\"the number of features at training time\"\u001b[0m \u001b[0;34m%\u001b[0m\u001b[0;34m\u001b[0m\u001b[0;34m\u001b[0m\u001b[0m\n\u001b[0;32m--> 478\u001b[0;31m                              (n_features, self.shape_fit_[1]))\n\u001b[0m\u001b[1;32m    479\u001b[0m         \u001b[0;32mreturn\u001b[0m \u001b[0mX\u001b[0m\u001b[0;34m\u001b[0m\u001b[0;34m\u001b[0m\u001b[0m\n\u001b[1;32m    480\u001b[0m \u001b[0;34m\u001b[0m\u001b[0m\n",
      "\u001b[0;31mValueError\u001b[0m: X.shape[1] = 390 should be equal to 570, the number of features at training time"
     ]
    }
   ],
   "source": [
    "svc.score(test1_X, np.dot(test1_y, range(num_classes)))"
   ]
  },
  {
   "cell_type": "code",
   "execution_count": 212,
   "metadata": {},
   "outputs": [
    {
     "data": {
      "text/plain": [
       "0.543859649122807"
      ]
     },
     "execution_count": 212,
     "metadata": {},
     "output_type": "execute_result"
    }
   ],
   "source": [
    "svc.score(test2_X, np.dot(test2_y, range(num_classes)))"
   ]
  },
  {
   "cell_type": "code",
   "execution_count": 213,
   "metadata": {},
   "outputs": [
    {
     "data": {
      "text/plain": [
       "1.0"
      ]
     },
     "execution_count": 213,
     "metadata": {},
     "output_type": "execute_result"
    }
   ],
   "source": [
    "svc.score(test3_X, np.dot(test3_y, range(num_classes)))"
   ]
  },
  {
   "cell_type": "code",
   "execution_count": 215,
   "metadata": {},
   "outputs": [
    {
     "data": {
      "text/plain": [
       "0.391304347826087"
      ]
     },
     "execution_count": 215,
     "metadata": {},
     "output_type": "execute_result"
    }
   ],
   "source": [
    "svc.score(test4_X, np.dot(test4_y, range(num_classes)))"
   ]
  },
  {
   "cell_type": "code",
   "execution_count": 219,
   "metadata": {},
   "outputs": [
    {
     "data": {
      "text/plain": [
       "array([[0, 0, 0, 0, 0, 0, 1, 0, 6, 0],\n",
       "       [0, 4, 0, 0, 0, 0, 0, 0, 0, 0],\n",
       "       [0, 0, 7, 0, 0, 0, 0, 1, 2, 0],\n",
       "       [0, 0, 0, 3, 0, 2, 0, 0, 0, 0],\n",
       "       [0, 0, 0, 0, 2, 0, 2, 0, 0, 0],\n",
       "       [1, 0, 0, 0, 0, 2, 2, 0, 0, 0],\n",
       "       [0, 0, 0, 0, 0, 0, 4, 0, 0, 0],\n",
       "       [1, 0, 1, 0, 0, 0, 0, 0, 1, 0],\n",
       "       [1, 0, 0, 0, 0, 3, 0, 0, 2, 0],\n",
       "       [0, 1, 0, 0, 0, 0, 0, 1, 0, 7]])"
      ]
     },
     "execution_count": 219,
     "metadata": {},
     "output_type": "execute_result"
    }
   ],
   "source": [
    "cm = confusion_matrix(np.dot(test2_y, range(num_classes)), \n",
    "                      svc.predict(test2_X))\n",
    "cm_norm = cm.astype('float') / cm.sum(axis=1)[:, np.newaxis]\n",
    "cm"
   ]
  },
  {
   "cell_type": "code",
   "execution_count": 220,
   "metadata": {},
   "outputs": [
    {
     "data": {
      "image/png": "[encoded data removed]",
      "text/plain": [
       "<Figure size 576x432 with 1 Axes>"
      ]
     },
     "metadata": {},
     "output_type": "display_data"
    }
   ],
   "source": [
    "plt.figure(figsize=(8, 6))\n",
    "plt.imshow(cm, interpolation='nearest', cmap=plt.cm.Blues)\n",
    "plt.show()"
   ]
  },
  {
   "cell_type": "code",
   "execution_count": 216,
   "metadata": {},
   "outputs": [
    {
     "data": {
      "text/plain": [
       "array([[1, 4, 0, 0, 0, 2, 0, 0, 2, 0],\n",
       "       [4, 4, 0, 0, 0, 0, 0, 0, 0, 1],\n",
       "       [2, 1, 5, 0, 0, 0, 0, 1, 0, 0],\n",
       "       [0, 0, 1, 6, 0, 3, 0, 0, 0, 0],\n",
       "       [0, 0, 0, 0, 8, 0, 0, 0, 0, 1],\n",
       "       [0, 3, 0, 0, 0, 5, 0, 1, 0, 0],\n",
       "       [0, 8, 0, 0, 0, 0, 1, 0, 0, 0],\n",
       "       [0, 6, 0, 0, 0, 2, 0, 0, 0, 2],\n",
       "       [1, 0, 0, 0, 3, 0, 0, 0, 3, 2],\n",
       "       [1, 0, 1, 0, 0, 4, 0, 0, 0, 3]])"
      ]
     },
     "execution_count": 216,
     "metadata": {},
     "output_type": "execute_result"
    }
   ],
   "source": [
    "cm = confusion_matrix(np.dot(test4_y, range(num_classes)), \n",
    "                      svc.predict(test4_X))\n",
    "cm_norm = cm.astype('float') / cm.sum(axis=1)[:, np.newaxis]\n",
    "cm"
   ]
  },
  {
   "cell_type": "code",
   "execution_count": 217,
   "metadata": {},
   "outputs": [
    {
     "data": {
      "image/png": "[encoded data removed]",
      "text/plain": [
       "<Figure size 576x432 with 1 Axes>"
      ]
     },
     "metadata": {},
     "output_type": "display_data"
    }
   ],
   "source": [
    "plt.figure(figsize=(8, 6))\n",
    "plt.imshow(cm, interpolation='nearest', cmap=plt.cm.Blues)\n",
    "plt.show()"
   ]
  },
  {
   "cell_type": "markdown",
   "metadata": {},
   "source": [
    "#### DNN\n",
    "* Overfitting badly, accuracy is high for ppl who contribute to training set but low for ppl who don't"
   ]
  },
  {
   "cell_type": "code",
   "execution_count": 110,
   "metadata": {},
   "outputs": [
    {
     "data": {
      "text/plain": [
       "409"
      ]
     },
     "execution_count": 110,
     "metadata": {},
     "output_type": "execute_result"
    }
   ],
   "source": [
    "x_sampled = preprocess(130, x_raw, padding='begin')\n",
    "len(x_sampled)"
   ]
  },
  {
   "cell_type": "code",
   "execution_count": 118,
   "metadata": {},
   "outputs": [
    {
     "data": {
      "text/plain": [
       "(409, 130, 3)"
      ]
     },
     "execution_count": 118,
     "metadata": {},
     "output_type": "execute_result"
    }
   ],
   "source": [
    "np.asarray(x_sampled).shape"
   ]
  },
  {
   "cell_type": "code",
   "execution_count": 131,
   "metadata": {},
   "outputs": [],
   "source": [
    "num_classes = 10\n",
    "X_train, X_test, y_train, y_test = split_data(x_sampled, label, feature='linear', \n",
    "                                              train_idx=400, norm=False,\n",
    "                                              random_seed=3)"
   ]
  },
  {
   "cell_type": "code",
   "execution_count": 132,
   "metadata": {},
   "outputs": [
    {
     "data": {
      "text/plain": [
       "(400, 390)"
      ]
     },
     "execution_count": 132,
     "metadata": {},
     "output_type": "execute_result"
    }
   ],
   "source": [
    "X_train.shape"
   ]
  },
  {
   "cell_type": "code",
   "execution_count": 133,
   "metadata": {},
   "outputs": [
    {
     "data": {
      "text/plain": [
       "array([[0., 0., 0., ..., 0., 0., 1.],\n",
       "       [0., 0., 0., ..., 0., 0., 1.],\n",
       "       [0., 0., 0., ..., 0., 0., 0.],\n",
       "       ...,\n",
       "       [0., 0., 0., ..., 0., 1., 0.],\n",
       "       [0., 0., 0., ..., 0., 0., 1.],\n",
       "       [0., 0., 0., ..., 0., 1., 0.]])"
      ]
     },
     "execution_count": 133,
     "metadata": {},
     "output_type": "execute_result"
    }
   ],
   "source": [
    "y_train"
   ]
  },
  {
   "cell_type": "code",
   "execution_count": 134,
   "metadata": {},
   "outputs": [
    {
     "data": {
      "text/plain": [
       "LogisticRegression(C=10.0, class_weight=None, dual=False, fit_intercept=True,\n",
       "          intercept_scaling=1, max_iter=100, multi_class='multinomial',\n",
       "          n_jobs=None, penalty='l2', random_state=None, solver='newton-cg',\n",
       "          tol=0.0001, verbose=0, warm_start=False)"
      ]
     },
     "execution_count": 134,
     "metadata": {},
     "output_type": "execute_result"
    }
   ],
   "source": [
    "lg = LogisticRegression(penalty='l2', C=10.0, solver='newton-cg', multi_class='multinomial')\n",
    "lg.fit(X_train, np.dot(y_train, range(num_classes)))"
   ]
  },
  {
   "cell_type": "code",
   "execution_count": 135,
   "metadata": {},
   "outputs": [
    {
     "data": {
      "text/plain": [
       "1.0"
      ]
     },
     "execution_count": 135,
     "metadata": {},
     "output_type": "execute_result"
    }
   ],
   "source": [
    "lg.score(X_train, np.dot(y_train, range(num_classes)))"
   ]
  },
  {
   "cell_type": "code",
   "execution_count": 136,
   "metadata": {},
   "outputs": [
    {
     "data": {
      "text/plain": [
       "0.7777777777777778"
      ]
     },
     "execution_count": 136,
     "metadata": {},
     "output_type": "execute_result"
    }
   ],
   "source": [
    "lg.score(X_test, np.dot(y_test, range(num_classes)))"
   ]
  },
  {
   "cell_type": "code",
   "execution_count": 137,
   "metadata": {},
   "outputs": [
    {
     "data": {
      "text/plain": [
       "0.631578947368421"
      ]
     },
     "execution_count": 137,
     "metadata": {},
     "output_type": "execute_result"
    }
   ],
   "source": [
    "lg.score(test1_X, np.dot(test1_y, range(num_classes)))"
   ]
  },
  {
   "cell_type": "code",
   "execution_count": 138,
   "metadata": {},
   "outputs": [
    {
     "data": {
      "text/plain": [
       "0.38596491228070173"
      ]
     },
     "execution_count": 138,
     "metadata": {},
     "output_type": "execute_result"
    }
   ],
   "source": [
    "lg.score(test2_X, np.dot(test2_y, range(num_classes)))"
   ]
  },
  {
   "cell_type": "code",
   "execution_count": 139,
   "metadata": {},
   "outputs": [
    {
     "data": {
      "text/plain": [
       "0.7272727272727273"
      ]
     },
     "execution_count": 139,
     "metadata": {},
     "output_type": "execute_result"
    }
   ],
   "source": [
    "lg.score(test3_X, np.dot(test3_y, range(num_classes)))"
   ]
  },
  {
   "cell_type": "code",
   "execution_count": 140,
   "metadata": {},
   "outputs": [
    {
     "data": {
      "text/plain": [
       "0.358695652173913"
      ]
     },
     "execution_count": 140,
     "metadata": {},
     "output_type": "execute_result"
    }
   ],
   "source": [
    "lg.score(test4_X, np.dot(test4_y, range(num_classes)))"
   ]
  },
  {
   "cell_type": "code",
   "execution_count": 141,
   "metadata": {},
   "outputs": [
    {
     "data": {
      "text/plain": [
       "0.9441860465116279"
      ]
     },
     "execution_count": 141,
     "metadata": {},
     "output_type": "execute_result"
    }
   ],
   "source": [
    "lg.score(test5_X, np.dot(test5_y, range(num_classes)))"
   ]
  },
  {
   "cell_type": "code",
   "execution_count": 142,
   "metadata": {},
   "outputs": [
    {
     "data": {
      "text/plain": [
       "0.3"
      ]
     },
     "execution_count": 142,
     "metadata": {},
     "output_type": "execute_result"
    }
   ],
   "source": [
    "lg.score(test6_X, np.dot(test6_y, range(num_classes)))"
   ]
  },
  {
   "cell_type": "code",
   "execution_count": null,
   "metadata": {},
   "outputs": [],
   "source": []
  },
  {
   "cell_type": "code",
   "execution_count": 143,
   "metadata": {},
   "outputs": [],
   "source": [
    "tf.reset_default_graph()"
   ]
  },
  {
   "cell_type": "code",
   "execution_count": 144,
   "metadata": {},
   "outputs": [],
   "source": [
    "input_shape =  X_train.shape[1]\n",
    "fc1_shape = 64\n",
    "fc2_shape = 128"
   ]
  },
  {
   "cell_type": "code",
   "execution_count": 145,
   "metadata": {},
   "outputs": [],
   "source": [
    "x = tf.placeholder(tf.float32, shape=[None, input_shape], name='x')\n",
    "y_ = tf.placeholder(tf.float32, shape=[None, num_classes], name='y_')\n",
    "keep_proba = tf.placeholder(tf.float32, shape=())"
   ]
  },
  {
   "cell_type": "code",
   "execution_count": 146,
   "metadata": {},
   "outputs": [
    {
     "name": "stdout",
     "output_type": "stream",
     "text": [
      "<tf.Variable 'fc1/weights:0' shape=(390, 64) dtype=float32_ref>\n",
      "Tensor(\"fc1/dropout/mul_1:0\", shape=(?, 64), dtype=float32)\n"
     ]
    }
   ],
   "source": [
    "with tf.variable_scope(\"fc1\") as scope:\n",
    "    weights = tf.get_variable(name=\"weights\", shape=[input_shape, fc1_shape], dtype=tf.float32,\n",
    "                              initializer=tf.contrib.layers.xavier_initializer(), trainable=True)\n",
    "    bias = tf.get_variable(name=\"bias\", shape=[fc1_shape], dtype=tf.float32,\n",
    "                           initializer=tf.contrib.layers.xavier_initializer(), trainable=True)\n",
    "    fc = tf.matmul(x, weights, name=\"matmul\")\n",
    "    pre_activation = tf.add(fc, bias)\n",
    "    fc1 = tf.nn.relu(pre_activation, name=\"relu\")\n",
    "    dp1 = tf.nn.dropout(fc1, keep_prob=keep_proba)\n",
    "\n",
    "print(weights)\n",
    "print(dp1)"
   ]
  },
  {
   "cell_type": "code",
   "execution_count": 147,
   "metadata": {},
   "outputs": [
    {
     "name": "stdout",
     "output_type": "stream",
     "text": [
      "<tf.Variable 'fc2/weights:0' shape=(64, 128) dtype=float32_ref>\n",
      "Tensor(\"fc2/relu:0\", shape=(?, 128), dtype=float32)\n"
     ]
    }
   ],
   "source": [
    "with tf.variable_scope(\"fc2\") as scope:\n",
    "    weights = tf.get_variable(name=\"weights\", shape=[fc1_shape, fc2_shape], dtype=tf.float32,\n",
    "                              initializer=tf.contrib.layers.xavier_initializer(), trainable=True)\n",
    "    bias = tf.get_variable(name=\"bias\", shape=[fc2_shape], dtype=tf.float32,\n",
    "                           initializer=tf.contrib.layers.xavier_initializer(), trainable=True)\n",
    "    fc = tf.matmul(dp1, weights, name=\"matmul\")\n",
    "    pre_activation = tf.add(fc, bias)\n",
    "    fc2 = tf.nn.relu(pre_activation, name=\"relu\")\n",
    "    dp2 = tf.nn.dropout(fc2, keep_prob=keep_proba)\n",
    "\n",
    "print(weights)\n",
    "print(fc2)"
   ]
  },
  {
   "cell_type": "code",
   "execution_count": 148,
   "metadata": {},
   "outputs": [
    {
     "name": "stdout",
     "output_type": "stream",
     "text": [
      "<tf.Variable 'fc3/weights:0' shape=(128, 10) dtype=float32_ref>\n",
      "Tensor(\"fc3/logits:0\", shape=(?, 10), dtype=float32)\n"
     ]
    }
   ],
   "source": [
    "with tf.variable_scope(\"fc3\") as scope:\n",
    "    weights = tf.get_variable(name=\"weights\", shape=[fc2_shape, num_classes], dtype=tf.float32,\n",
    "                              initializer=tf.contrib.layers.xavier_initializer(), trainable=True)\n",
    "    bias = tf.get_variable(name=\"bias\", shape=[num_classes], dtype=tf.float32,\n",
    "                           initializer=tf.contrib.layers.xavier_initializer(), trainable=True)\n",
    "    fc = tf.matmul(dp2, weights, name=\"matmul\")\n",
    "    logits = tf.add(fc, bias, name=\"logits\")\n",
    "    y_proba = tf.nn.softmax(logits, name=\"y_proba\")\n",
    "    y_pred = tf.argmax(logits, axis=1, name=\"y_pred\")\n",
    "\n",
    "print(weights)\n",
    "print(logits)"
   ]
  },
  {
   "cell_type": "code",
   "execution_count": 149,
   "metadata": {},
   "outputs": [
    {
     "name": "stdout",
     "output_type": "stream",
     "text": [
      "Tensor(\"loss/cross_entropy/Reshape_2:0\", shape=(?,), dtype=float32)\n",
      "Tensor(\"loss/cross_entropy_loss:0\", shape=(), dtype=float32)\n"
     ]
    }
   ],
   "source": [
    "with tf.name_scope(\"loss\"):\n",
    "    cross_entropy = tf.nn.softmax_cross_entropy_with_logits_v2(labels=y_, logits=logits, name=\"cross_entropy\")\n",
    "    loss = tf.reduce_mean(cross_entropy, name=\"cross_entropy_loss\")\n",
    "    #train_step = tf.train.RMSPropOptimizer(learning_rate=1e-4).minimize(loss, name=\"train_step\")\n",
    "    train_step = tf.train.AdamOptimizer(1e-4).minimize(loss, name=\"train_step\")\n",
    "    #lr = tf.placeholder(tf.float32, shape=[])\n",
    "    #train_step = tf.train.GradientDescentOptimizer(lr).minimize(loss, name=\"train_step\")\n",
    "print(cross_entropy)\n",
    "print(loss)"
   ]
  },
  {
   "cell_type": "code",
   "execution_count": 150,
   "metadata": {},
   "outputs": [
    {
     "name": "stdout",
     "output_type": "stream",
     "text": [
      "Tensor(\"eval/Equal:0\", shape=(?,), dtype=bool)\n",
      "Tensor(\"eval/accuracy:0\", shape=(), dtype=float32)\n"
     ]
    }
   ],
   "source": [
    "with tf.name_scope(\"eval\"):\n",
    "    correct = tf.equal(y_pred, tf.argmax(y_, 1))\n",
    "    accuracy = tf.reduce_mean(tf.cast(correct, tf.float32), name=\"accuracy\")\n",
    "print(correct)\n",
    "print(accuracy)"
   ]
  },
  {
   "cell_type": "markdown",
   "metadata": {},
   "source": [
    "#### training"
   ]
  },
  {
   "cell_type": "code",
   "execution_count": 151,
   "metadata": {},
   "outputs": [],
   "source": [
    "sess = tf.Session()\n",
    "# Initialize the variables (i.e. assign their default value)\n",
    "sess.run(tf.global_variables_initializer())\n",
    "saver = tf.train.Saver()"
   ]
  },
  {
   "cell_type": "code",
   "execution_count": 152,
   "metadata": {},
   "outputs": [
    {
     "name": "stdout",
     "output_type": "stream",
     "text": [
      "Epoch 0, training loss: 5.95452, training accuracy: 0.09\n",
      "Epoch 0, validation loss: 4.28631, validation accuracy 0\n"
     ]
    }
   ],
   "source": [
    "train_loss, train_accuracy = sess.run([loss, accuracy], \n",
    "                                      feed_dict={x: X_train, \n",
    "                                                 y_: y_train,\n",
    "                                                 keep_proba: 1.0})\n",
    "print('Epoch %d, training loss: %g, training accuracy: %g' % (0, train_loss, train_accuracy))\n",
    "val_loss, val_accuracy = sess.run([loss, accuracy], \n",
    "                                  feed_dict={x: X_test,\n",
    "                                             y_: y_test,\n",
    "                                             keep_proba: 1.0})\n",
    "print('Epoch %d, validation loss: %g, validation accuracy %g' % (0, val_loss, val_accuracy))\n",
    "#results[\"init_loss\"].append(val_loss)\n",
    "#results[\"init_acc\"].append(val_accuracy)\n",
    "max_accuracy = val_accuracy"
   ]
  },
  {
   "cell_type": "code",
   "execution_count": 153,
   "metadata": {},
   "outputs": [],
   "source": [
    "batch_size = 20\n",
    "n_epochs = 50\n",
    "n_batches = int(X_train.shape[0] / batch_size)\n",
    "display_step = 5\n",
    "max_accuracy = 0\n",
    "learning_rate = 0.001\n",
    "decay_rate = 0.999\n",
    "\n",
    "save_ckps_dir = \"./chkps_mnist_air/dnn2\""
   ]
  },
  {
   "cell_type": "code",
   "execution_count": 158,
   "metadata": {},
   "outputs": [
    {
     "name": "stdout",
     "output_type": "stream",
     "text": [
      "Epoch 4, training loss: 0.0624731, training accuracy: 0.995\n",
      "Epoch 4, validation loss: 0.350359, validation accuracy 0.888889\n",
      "learning rate: 0.0008145637636371414\n",
      "Epoch 9, training loss: 0.0548711, training accuracy: 1\n",
      "Epoch 9, validation loss: 0.372984, validation accuracy 0.888889\n",
      "learning rate: 0.0008104990823150264\n",
      "Epoch 14, training loss: 0.0519634, training accuracy: 1\n",
      "Epoch 14, validation loss: 0.336855, validation accuracy 0.888889\n",
      "learning rate: 0.0008064546837933353\n",
      "Epoch 19, training loss: 0.0463696, training accuracy: 1\n",
      "Epoch 19, validation loss: 0.301741, validation accuracy 0.888889\n",
      "learning rate: 0.0008024304668606911\n",
      "Epoch 24, training loss: 0.0416711, training accuracy: 1\n",
      "Epoch 24, validation loss: 0.264667, validation accuracy 0.888889\n",
      "learning rate: 0.0007984263308107629\n",
      "Epoch 29, training loss: 0.0390875, training accuracy: 1\n",
      "Epoch 29, validation loss: 0.337439, validation accuracy 0.888889\n",
      "learning rate: 0.0007944421754397453\n",
      "Epoch 34, training loss: 0.0355419, training accuracy: 1\n",
      "Epoch 34, validation loss: 0.245978, validation accuracy 0.888889\n",
      "learning rate: 0.0007904779010438507\n",
      "Epoch 39, training loss: 0.0319964, training accuracy: 1\n",
      "Epoch 39, validation loss: 0.226489, validation accuracy 0.888889\n",
      "learning rate: 0.0007865334084168144\n",
      "Epoch 44, training loss: 0.0293821, training accuracy: 1\n",
      "Epoch 44, validation loss: 0.307583, validation accuracy 0.888889\n",
      "learning rate: 0.0007826085988474124\n",
      "Epoch 49, training loss: 0.0283455, training accuracy: 1\n",
      "Epoch 49, validation loss: 0.330386, validation accuracy 0.888889\n",
      "learning rate: 0.00077870337411699\n"
     ]
    }
   ],
   "source": [
    "for i in range(n_epochs):\n",
    "    batch_start = 0\n",
    "    batch_end = batch_size\n",
    "    for j in range(n_batches):\n",
    "        batch_images, batch_labels = X_train[batch_start:batch_end, :], y_train[batch_start:batch_end, :]\n",
    "        sess.run(train_step, feed_dict={x: batch_images, \n",
    "                                        y_: batch_labels,\n",
    "                                        keep_proba: 0.9})\n",
    "        batch_start += batch_size\n",
    "        batch_end += batch_size\n",
    "        \n",
    "    learning_rate *= decay_rate\n",
    "    train_loss, train_accuracy = sess.run([loss, accuracy], \n",
    "                                          feed_dict={x: X_train, \n",
    "                                                     y_: y_train,\n",
    "                                                     keep_proba: 1.0})\n",
    "    #results[\"train_loss\"].append(train_loss)\n",
    "    #results[\"train_acc\"].append(train_accuracy)\n",
    "\n",
    "    val_loss, val_accuracy = sess.run([loss, accuracy], \n",
    "                                      feed_dict={x: X_test,\n",
    "                                                 y_: y_test, \n",
    "                                                 keep_proba: 1.0})\n",
    "    #results[\"val_loss\"].append(val_loss)\n",
    "    #results[\"val_acc\"].append(val_accuracy)\n",
    "    \n",
    "    if val_accuracy > max_accuracy:\n",
    "        print(\"Save the current model!\")\n",
    "        max_accuracy = val_accuracy\n",
    "        \n",
    "        saver.save(sess, save_ckps_dir)\n",
    "    \n",
    "    if (i+1) % display_step == 0:\n",
    "        print('Epoch %d, training loss: %g, training accuracy: %g' % (i, train_loss, train_accuracy))\n",
    "        print('Epoch %d, validation loss: %g, validation accuracy %g' % (i, val_loss, val_accuracy))\n",
    "        print('learning rate: {}'.format(learning_rate))"
   ]
  },
  {
   "cell_type": "code",
   "execution_count": 167,
   "metadata": {},
   "outputs": [],
   "source": [
    "saver.restore(sess, save_ckps_dir)"
   ]
  },
  {
   "cell_type": "code",
   "execution_count": 159,
   "metadata": {},
   "outputs": [
    {
     "name": "stdout",
     "output_type": "stream",
     "text": [
      "0.8888889\n"
     ]
    }
   ],
   "source": [
    "val_loss, val_accuracy = sess.run([loss, accuracy], \n",
    "                                      feed_dict={x: X_test,\n",
    "                                                 y_: y_test, \n",
    "                                                 keep_proba: 1.0})\n",
    "print(val_accuracy)"
   ]
  },
  {
   "cell_type": "code",
   "execution_count": 160,
   "metadata": {},
   "outputs": [
    {
     "name": "stdout",
     "output_type": "stream",
     "text": [
      "0.57894737\n"
     ]
    }
   ],
   "source": [
    "test_loss, test_accuracy = sess.run([loss, accuracy], \n",
    "                                      feed_dict={x: test1_X,\n",
    "                                                 y_: test1_y, \n",
    "                                                 keep_proba: 1.0})\n",
    "print(test_accuracy)"
   ]
  },
  {
   "cell_type": "code",
   "execution_count": 161,
   "metadata": {},
   "outputs": [
    {
     "name": "stdout",
     "output_type": "stream",
     "text": [
      "0.54385966\n"
     ]
    }
   ],
   "source": [
    "test_loss, test_accuracy = sess.run([loss, accuracy], \n",
    "                                      feed_dict={x: test2_X,\n",
    "                                                 y_: test2_y, \n",
    "                                                 keep_proba: 1.0})\n",
    "print(test_accuracy)"
   ]
  },
  {
   "cell_type": "code",
   "execution_count": 162,
   "metadata": {},
   "outputs": [
    {
     "name": "stdout",
     "output_type": "stream",
     "text": [
      "0.77272725\n"
     ]
    }
   ],
   "source": [
    "test_loss, test_accuracy = sess.run([loss, accuracy], \n",
    "                                      feed_dict={x: test3_X,\n",
    "                                                 y_: test3_y, \n",
    "                                                 keep_proba: 1.0})\n",
    "print(test_accuracy)"
   ]
  },
  {
   "cell_type": "code",
   "execution_count": 163,
   "metadata": {},
   "outputs": [
    {
     "name": "stdout",
     "output_type": "stream",
     "text": [
      "0.35869566\n"
     ]
    }
   ],
   "source": [
    "test_loss, test_accuracy = sess.run([loss, accuracy], \n",
    "                                      feed_dict={x: test4_X,\n",
    "                                                 y_: test4_y, \n",
    "                                                 keep_proba: 1.0})\n",
    "print(test_accuracy)"
   ]
  },
  {
   "cell_type": "code",
   "execution_count": 169,
   "metadata": {},
   "outputs": [
    {
     "name": "stdout",
     "output_type": "stream",
     "text": [
      "0.52517986\n"
     ]
    }
   ],
   "source": [
    "test_loss, test_accuracy = sess.run([loss, accuracy], \n",
    "                                      feed_dict={x: test5_X,\n",
    "                                                 y_: test5_y, \n",
    "                                                 keep_proba: 1.0})\n",
    "print(test_accuracy)"
   ]
  },
  {
   "cell_type": "code",
   "execution_count": 165,
   "metadata": {},
   "outputs": [
    {
     "name": "stdout",
     "output_type": "stream",
     "text": [
      "0.4\n"
     ]
    }
   ],
   "source": [
    "test_loss, test_accuracy = sess.run([loss, accuracy], \n",
    "                                      feed_dict={x: test6_X,\n",
    "                                                 y_: test6_y, \n",
    "                                                 keep_proba: 1.0})\n",
    "print(test_accuracy)"
   ]
  },
  {
   "cell_type": "markdown",
   "metadata": {},
   "source": [
    "#### Saved model"
   ]
  },
  {
   "cell_type": "code",
   "execution_count": 527,
   "metadata": {},
   "outputs": [],
   "source": [
    "from tensorflow.saved_model import signature_def_utils, signature_constants, tag_constants\n",
    "from tensorflow.saved_model import utils as save_model_utils"
   ]
  },
  {
   "cell_type": "code",
   "execution_count": 528,
   "metadata": {},
   "outputs": [],
   "source": [
    "savemodel_file_path = \"./savedmodel/mnist_air_dnn\""
   ]
  },
  {
   "cell_type": "code",
   "execution_count": 532,
   "metadata": {},
   "outputs": [],
   "source": [
    "x_op = sess.graph.get_operation_by_name('x')\n",
    "x_node = x_op.outputs[0]\n",
    "pred_op = sess.graph.get_operation_by_name('fc3/y_proba')\n",
    "pred = pred_op.outputs[0]"
   ]
  },
  {
   "cell_type": "code",
   "execution_count": 533,
   "metadata": {},
   "outputs": [],
   "source": [
    "prediction_signature = signature_def_utils.build_signature_def(\n",
    "    inputs={\"input\": save_model_utils.build_tensor_info(x)},\n",
    "    outputs={\"output\":save_model_utils.build_tensor_info(pred)},\n",
    "    method_name=signature_constants.PREDICT_METHOD_NAME)"
   ]
  },
  {
   "cell_type": "code",
   "execution_count": 534,
   "metadata": {},
   "outputs": [
    {
     "data": {
      "text/plain": [
       "b'./savedmodel/mnist_air_dnn/saved_model.pb'"
      ]
     },
     "execution_count": 534,
     "metadata": {},
     "output_type": "execute_result"
    }
   ],
   "source": [
    "builder = tf.saved_model.builder.SavedModelBuilder(savemodel_file_path)\n",
    "builder.add_meta_graph_and_variables(sess, [tag_constants.SERVING], \n",
    "                                     signature_def_map={\"predict\": prediction_signature})\n",
    "builder.save()"
   ]
  },
  {
   "cell_type": "code",
   "execution_count": 535,
   "metadata": {},
   "outputs": [],
   "source": [
    "sess.close()"
   ]
  },
  {
   "cell_type": "markdown",
   "metadata": {},
   "source": [
    "### Visualize the data"
   ]
  },
  {
   "cell_type": "code",
   "execution_count": null,
   "metadata": {},
   "outputs": [],
   "source": []
  }
 ],
 "metadata": {
  "kernelspec": {
   "display_name": "Python [conda env:tensorflow_cpu]",
   "language": "python",
   "name": "conda-env-tensorflow_cpu-py"
  },
  "language_info": {
   "codemirror_mode": {
    "name": "ipython",
    "version": 3
   },
   "file_extension": ".py",
   "mimetype": "text/x-python",
   "name": "python",
   "nbconvert_exporter": "python",
   "pygments_lexer": "ipython3",
   "version": "3.6.7"
  }
 },
 "nbformat": 4,
 "nbformat_minor": 4
}
