{
 "cells": [
  {
   "cell_type": "code",
   "execution_count": 2,
   "metadata": {},
   "outputs": [],
   "source": [
    "import numpy as np\n",
    "import pandas as pd\n",
    "import pickle\n",
    "import tensorflow as tf\n",
    "from matplotlib import pyplot as plt"
   ]
  },
  {
   "cell_type": "code",
   "execution_count": null,
   "metadata": {},
   "outputs": [],
   "source": [
    "from sklearn.ensemble import RandomForestClassifier\n",
    "from sklearn.svm import SVC\n",
    "from sklearn.linear_model import LogisticRegression\n",
    "from sklearn.metrics import confusion_matrix"
   ]
  },
  {
   "cell_type": "code",
   "execution_count": 9,
   "metadata": {},
   "outputs": [],
   "source": [
    "from utils_functions import *"
   ]
  },
  {
   "cell_type": "code",
   "execution_count": 5,
   "metadata": {},
   "outputs": [
    {
     "ename": "ImportError",
     "evalue": "cannot import name 'preprocess'",
     "output_type": "error",
     "traceback": [
      "\u001b[0;31m--------------\u001b[0m",
      "\u001b[0;31mImportError\u001b[0mTraceback (most recent call last)",
      "\u001b[0;32m<ipython-input-5-03881da56e65>\u001b[0m in \u001b[0;36m<module>\u001b[0;34m()\u001b[0m\n\u001b[1;32m      1\u001b[0m \u001b[0;31m#import model_manager as mm\u001b[0m\u001b[0;34m\u001b[0m\u001b[0;34m\u001b[0m\u001b[0;34m\u001b[0m\u001b[0m\n\u001b[0;32m----> 2\u001b[0;31m \u001b[0;32mfrom\u001b[0m \u001b[0mutils_functions\u001b[0m \u001b[0;32mimport\u001b[0m \u001b[0mpreprocess\u001b[0m\u001b[0;34m,\u001b[0m \u001b[0msplit_data\u001b[0m\u001b[0;34m,\u001b[0m \u001b[0mmean_std_acc\u001b[0m\u001b[0;34m\u001b[0m\u001b[0;34m\u001b[0m\u001b[0m\n\u001b[0m",
      "\u001b[0;31mImportError\u001b[0m: cannot import name 'preprocess'"
     ]
    }
   ],
   "source": [
    "#import model_manager as mm\n",
    "from utils_functions import preprocess, split_data, mean_std_acc"
   ]
  },
  {
   "cell_type": "code",
   "execution_count": 3,
   "metadata": {},
   "outputs": [],
   "source": [
    "%matplotlib inline"
   ]
  },
  {
   "cell_type": "code",
   "execution_count": 4,
   "metadata": {},
   "outputs": [
    {
     "data": {
      "text/plain": [
       "'2.0.0'"
      ]
     },
     "execution_count": 4,
     "metadata": {},
     "output_type": "execute_result"
    }
   ],
   "source": [
    "tf.__version__"
   ]
  },
  {
   "cell_type": "markdown",
   "metadata": {},
   "source": [
    "### Load training set from pickle files\n",
    "The raw data is logged in JSON files. The JSON files are parsed and the accerleometer data are saved in Pickle files."
   ]
  },
  {
   "cell_type": "code",
   "execution_count": 58,
   "metadata": {},
   "outputs": [],
   "source": [
    "# 10 digits to be classified\n",
    "num_classes = 10"
   ]
  },
  {
   "cell_type": "code",
   "execution_count": 61,
   "metadata": {},
   "outputs": [],
   "source": [
    "with open('x_raw.pickle', 'rb') as handle:\n",
    "    x_raw = pickle.load(handle)\n",
    "with open('label.pickle', 'rb') as handle:\n",
    "    label = pickle.load(handle)"
   ]
  },
  {
   "cell_type": "code",
   "execution_count": 63,
   "metadata": {},
   "outputs": [
    {
     "name": "stdout",
     "output_type": "stream",
     "text": [
      "There are 409 samples and 409 labels in the training set\n"
     ]
    }
   ],
   "source": [
    "print(\"There are {0} samples and {1} labels in the training set\".format(len(x_raw), len(label)))"
   ]
  },
  {
   "cell_type": "markdown",
   "metadata": {},
   "source": [
    "### Test sets"
   ]
  },
  {
   "cell_type": "code",
   "execution_count": 11,
   "metadata": {},
   "outputs": [],
   "source": [
    "with open('test1_x_raw.pickle', 'rb') as handle:\n",
    "    test1_x_raw = pickle.load(handle)\n",
    "with open('test1_label.pickle', 'rb') as handle:\n",
    "    test1_label = pickle.load(handle)"
   ]
  },
  {
   "cell_type": "code",
   "execution_count": 12,
   "metadata": {},
   "outputs": [
    {
     "data": {
      "text/plain": [
       "(19, 130, 3)"
      ]
     },
     "execution_count": 12,
     "metadata": {},
     "output_type": "execute_result"
    }
   ],
   "source": [
    "tmp = np.asarray(preprocess(130, test1_x_raw))\n",
    "tmp.shape"
   ]
  },
  {
   "cell_type": "code",
   "execution_count": 13,
   "metadata": {},
   "outputs": [
    {
     "data": {
      "text/plain": [
       "(19, 390)"
      ]
     },
     "execution_count": 13,
     "metadata": {},
     "output_type": "execute_result"
    }
   ],
   "source": [
    "test1_X = np.asarray(tmp, dtype=np.float32).reshape(tmp.shape[0], -1)\n",
    "test1_X.shape"
   ]
  },
  {
   "cell_type": "code",
   "execution_count": 14,
   "metadata": {},
   "outputs": [
    {
     "data": {
      "text/plain": [
       "(19, 10)"
      ]
     },
     "execution_count": 14,
     "metadata": {},
     "output_type": "execute_result"
    }
   ],
   "source": [
    "test1_y = np.eye(num_classes)[np.array(test1_label)]\n",
    "test1_y.shape"
   ]
  },
  {
   "cell_type": "code",
   "execution_count": 15,
   "metadata": {},
   "outputs": [
    {
     "name": "stdout",
     "output_type": "stream",
     "text": [
      "57 57\n"
     ]
    }
   ],
   "source": [
    "with open('test2_x_raw.pickle', 'rb') as handle:\n",
    "    test2_x_raw = pickle.load(handle)\n",
    "with open('test2_label.pickle', 'rb') as handle:\n",
    "    test2_label = pickle.load(handle)\n",
    "print(len(test2_x_raw), len(test2_label))"
   ]
  },
  {
   "cell_type": "code",
   "execution_count": 16,
   "metadata": {},
   "outputs": [
    {
     "name": "stdout",
     "output_type": "stream",
     "text": [
      "(57, 130, 3)\n",
      "(57, 390)\n",
      "(57, 10)\n"
     ]
    }
   ],
   "source": [
    "tmp = np.asarray(preprocess(130, test2_x_raw))\n",
    "print(tmp.shape)\n",
    "test2_X = np.asarray(tmp, dtype=np.float32).reshape(tmp.shape[0], -1)\n",
    "print(test2_X.shape)\n",
    "test2_y = np.eye(num_classes)[np.array(test2_label)]\n",
    "print(test2_y.shape)"
   ]
  },
  {
   "cell_type": "code",
   "execution_count": 17,
   "metadata": {},
   "outputs": [
    {
     "name": "stdout",
     "output_type": "stream",
     "text": [
      "22 22\n"
     ]
    }
   ],
   "source": [
    "# Z\n",
    "with open('test3_x_raw.pickle', 'rb') as handle:\n",
    "    test3_x_raw = pickle.load(handle)\n",
    "with open('test3_label.pickle', 'rb') as handle:\n",
    "    test3_label = pickle.load(handle)\n",
    "print(len(test3_x_raw), len(test3_label))"
   ]
  },
  {
   "cell_type": "code",
   "execution_count": 18,
   "metadata": {},
   "outputs": [
    {
     "name": "stdout",
     "output_type": "stream",
     "text": [
      "(22, 130, 3)\n",
      "(22, 390)\n",
      "(22, 10)\n"
     ]
    }
   ],
   "source": [
    "tmp = np.asarray(preprocess(130, test3_x_raw))\n",
    "print(tmp.shape)\n",
    "test3_X = np.asarray(tmp, dtype=np.float32).reshape(tmp.shape[0], -1)\n",
    "print(test3_X.shape)\n",
    "test3_y = np.eye(num_classes)[np.array(test3_label)]\n",
    "print(test3_y.shape)"
   ]
  },
  {
   "cell_type": "code",
   "execution_count": 19,
   "metadata": {},
   "outputs": [
    {
     "name": "stdout",
     "output_type": "stream",
     "text": [
      "92 92\n"
     ]
    }
   ],
   "source": [
    "# K\n",
    "with open('test4_x_raw.pickle', 'rb') as handle:\n",
    "    test4_x_raw = pickle.load(handle)\n",
    "with open('test4_label.pickle', 'rb') as handle:\n",
    "    test4_label = pickle.load(handle)\n",
    "print(len(test4_x_raw), len(test4_label))"
   ]
  },
  {
   "cell_type": "code",
   "execution_count": 20,
   "metadata": {},
   "outputs": [
    {
     "name": "stdout",
     "output_type": "stream",
     "text": [
      "(92, 130, 3)\n",
      "(92, 390)\n",
      "(92, 10)\n"
     ]
    }
   ],
   "source": [
    "tmp = np.asarray(preprocess(130, test4_x_raw))\n",
    "print(tmp.shape)\n",
    "test4_X = np.asarray(tmp, dtype=np.float32).reshape(tmp.shape[0], -1)\n",
    "print(test4_X.shape)\n",
    "test4_y = np.eye(num_classes)[np.array(test4_label)]\n",
    "print(test4_y.shape)"
   ]
  },
  {
   "cell_type": "code",
   "execution_count": 21,
   "metadata": {},
   "outputs": [
    {
     "name": "stdout",
     "output_type": "stream",
     "text": [
      "139 139\n"
     ]
    }
   ],
   "source": [
    "# Y\n",
    "with open('test5_x_raw.pickle', 'rb') as handle:\n",
    "    test5_x_raw = pickle.load(handle)\n",
    "with open('test5_label.pickle', 'rb') as handle:\n",
    "    test5_label = pickle.load(handle)\n",
    "print(len(test5_x_raw), len(test5_label))"
   ]
  },
  {
   "cell_type": "code",
   "execution_count": 22,
   "metadata": {},
   "outputs": [
    {
     "name": "stdout",
     "output_type": "stream",
     "text": [
      "(139, 130, 3)\n",
      "(139, 390)\n",
      "(139, 10)\n"
     ]
    }
   ],
   "source": [
    "tmp = np.asarray(preprocess(130, test5_x_raw))\n",
    "print(tmp.shape)\n",
    "test5_X = np.asarray(tmp, dtype=np.float32).reshape(tmp.shape[0], -1)\n",
    "print(test5_X.shape)\n",
    "test5_y = np.eye(num_classes)[np.array(test5_label)]\n",
    "print(test5_y.shape)"
   ]
  },
  {
   "cell_type": "markdown",
   "metadata": {},
   "source": [
    "### Visualization"
   ]
  },
  {
   "cell_type": "markdown",
   "metadata": {},
   "source": [
    "### Model Training"
   ]
  },
  {
   "cell_type": "code",
   "execution_count": null,
   "metadata": {},
   "outputs": [],
   "source": [
    "#### Preprocess the raw data to have the same dimensions"
   ]
  },
  {
   "cell_type": "code",
   "execution_count": 84,
   "metadata": {},
   "outputs": [
    {
     "data": {
      "text/plain": [
       "409"
      ]
     },
     "execution_count": 84,
     "metadata": {},
     "output_type": "execute_result"
    }
   ],
   "source": [
    "x_sampled = preprocess(140, x_raw, padding='begin')\n",
    "len(x_sampled)"
   ]
  },
  {
   "cell_type": "markdown",
   "metadata": {},
   "source": [
    "#### Split the data into training and test sets"
   ]
  },
  {
   "cell_type": "code",
   "execution_count": 85,
   "metadata": {},
   "outputs": [],
   "source": [
    "num_classes = 10\n",
    "X_train, X_test, y_train, y_test = split_data(x_sampled, label, \n",
    "                                              feature='linear',\n",
    "                                              train_idx=360,\n",
    "                                              random_seed=11)"
   ]
  },
  {
   "cell_type": "markdown",
   "metadata": {},
   "source": [
    "#### Train a Logistic Regression model"
   ]
  },
  {
   "cell_type": "code",
   "execution_count": 86,
   "metadata": {},
   "outputs": [
    {
     "data": {
      "text/plain": [
       "LogisticRegression(C=1.0, class_weight=None, dual=False, fit_intercept=True,\n",
       "                   intercept_scaling=1, l1_ratio=None, max_iter=100,\n",
       "                   multi_class='multinomial', n_jobs=None, penalty='l2',\n",
       "                   random_state=None, solver='newton-cg', tol=0.0001, verbose=0,\n",
       "                   warm_start=False)"
      ]
     },
     "execution_count": 86,
     "metadata": {},
     "output_type": "execute_result"
    }
   ],
   "source": [
    "lg = LogisticRegression(penalty='l2', C=1.0, solver='newton-cg', multi_class='multinomial')\n",
    "lg.fit(X_train, np.dot(y_train, range(num_classes)))"
   ]
  },
  {
   "cell_type": "code",
   "execution_count": 87,
   "metadata": {},
   "outputs": [
    {
     "data": {
      "text/plain": [
       "0.7142857142857143"
      ]
     },
     "execution_count": 87,
     "metadata": {},
     "output_type": "execute_result"
    }
   ],
   "source": [
    "lg.score(X_test, np.dot(y_test, range(num_classes)))"
   ]
  },
  {
   "cell_type": "markdown",
   "metadata": {},
   "source": [
    "#### Train a 3-layer fully connected neural network (DNN)"
   ]
  },
  {
   "cell_type": "code",
   "execution_count": 88,
   "metadata": {},
   "outputs": [],
   "source": [
    "model = tf.keras.models.Sequential([\n",
    "    tf.keras.layers.Dense(64, activation='relu'),\n",
    "    tf.keras.layers.Dropout(0.2),\n",
    "    tf.keras.layers.Dense(128, activation='relu'),\n",
    "    tf.keras.layers.Dropout(0.2),\n",
    "    tf.keras.layers.Dense(10, activation='softmax')\n",
    "])"
   ]
  },
  {
   "cell_type": "code",
   "execution_count": 90,
   "metadata": {},
   "outputs": [],
   "source": [
    "model.compile(optimizer='adam',\n",
    "              loss='categorical_crossentropy',\n",
    "              metrics=['accuracy'])"
   ]
  },
  {
   "cell_type": "code",
   "execution_count": null,
   "metadata": {},
   "outputs": [
    {
     "name": "stdout",
     "output_type": "stream",
     "text": [
      "Train on 360 samples, validate on 49 samples\n",
      "Epoch 1/200\n"
     ]
    }
   ],
   "source": [
    "model.fit(X_train, y_train, epochs=200, batch_size=20,\n",
    "          validation_data=(X_test, y_test))"
   ]
  },
  {
   "cell_type": "code",
   "execution_count": 47,
   "metadata": {},
   "outputs": [
    {
     "name": "stdout",
     "output_type": "stream",
     "text": [
      "Model: \"sequential_2\"\n",
      "_________________________________________________________________\n",
      "Layer (type)                 Output Shape              Param #   \n",
      "=================================================================\n",
      "dense_6 (Dense)              multiple                  25024     \n",
      "_________________________________________________________________\n",
      "dropout_4 (Dropout)          multiple                  0         \n",
      "_________________________________________________________________\n",
      "dense_7 (Dense)              multiple                  8320      \n",
      "_________________________________________________________________\n",
      "dropout_5 (Dropout)          multiple                  0         \n",
      "_________________________________________________________________\n",
      "dense_8 (Dense)              multiple                  1290      \n",
      "=================================================================\n",
      "Total params: 34,634\n",
      "Trainable params: 34,634\n",
      "Non-trainable params: 0\n",
      "_________________________________________________________________\n"
     ]
    }
   ],
   "source": [
    "model.summary()"
   ]
  },
  {
   "cell_type": "markdown",
   "metadata": {},
   "source": [
    "#### Model evaluation"
   ]
  },
  {
   "cell_type": "code",
   "execution_count": 48,
   "metadata": {},
   "outputs": [
    {
     "name": "stdout",
     "output_type": "stream",
     "text": [
      "29/1 - 0s - loss: 0.5577 - accuracy: 0.9310\n"
     ]
    },
    {
     "data": {
      "text/plain": [
       "[0.5576725006103516, 0.9310345]"
      ]
     },
     "execution_count": 48,
     "metadata": {},
     "output_type": "execute_result"
    }
   ],
   "source": [
    "model.evaluate(X_test,  y_test, verbose=2)"
   ]
  },
  {
   "cell_type": "code",
   "execution_count": 50,
   "metadata": {},
   "outputs": [
    {
     "name": "stdout",
     "output_type": "stream",
     "text": [
      "19/1 - 0s - loss: 3.4697 - accuracy: 0.5263\n"
     ]
    },
    {
     "data": {
      "text/plain": [
       "[3.469747543334961, 0.5263158]"
      ]
     },
     "execution_count": 50,
     "metadata": {},
     "output_type": "execute_result"
    }
   ],
   "source": [
    "model.evaluate(test1_X,  test1_y, verbose=2)"
   ]
  },
  {
   "cell_type": "code",
   "execution_count": 51,
   "metadata": {},
   "outputs": [
    {
     "name": "stdout",
     "output_type": "stream",
     "text": [
      "57/1 - 0s - loss: 3.1423 - accuracy: 0.4035\n"
     ]
    },
    {
     "data": {
      "text/plain": [
       "[2.999023721929182, 0.40350878]"
      ]
     },
     "execution_count": 51,
     "metadata": {},
     "output_type": "execute_result"
    }
   ],
   "source": [
    "model.evaluate(test2_X,  test2_y, verbose=2)"
   ]
  },
  {
   "cell_type": "code",
   "execution_count": 52,
   "metadata": {},
   "outputs": [
    {
     "name": "stdout",
     "output_type": "stream",
     "text": [
      "22/1 - 0s - loss: 1.0053 - accuracy: 0.9545\n"
     ]
    },
    {
     "data": {
      "text/plain": [
       "[1.0053497552871704, 0.95454544]"
      ]
     },
     "execution_count": 52,
     "metadata": {},
     "output_type": "execute_result"
    }
   ],
   "source": [
    "model.evaluate(test3_X,  test3_y, verbose=2)"
   ]
  },
  {
   "cell_type": "code",
   "execution_count": 53,
   "metadata": {},
   "outputs": [
    {
     "name": "stdout",
     "output_type": "stream",
     "text": [
      "92/1 - 0s - loss: 12.3446 - accuracy: 0.4783\n"
     ]
    },
    {
     "data": {
      "text/plain": [
       "[11.123297359632408, 0.47826087]"
      ]
     },
     "execution_count": 53,
     "metadata": {},
     "output_type": "execute_result"
    }
   ],
   "source": [
    "model.evaluate(test4_X,  test4_y, verbose=2)"
   ]
  },
  {
   "cell_type": "code",
   "execution_count": null,
   "metadata": {},
   "outputs": [],
   "source": [
    "model.evaluate(test3_X,  test3_y, verbose=2)"
   ]
  },
  {
   "cell_type": "markdown",
   "metadata": {},
   "source": [
    "### Model Manager Library\n",
    "\n",
    "The model manager library help manage models and their deployements. "
   ]
  },
  {
   "cell_type": "code",
   "execution_count": 71,
   "metadata": {},
   "outputs": [
    {
     "name": "stdout",
     "output_type": "stream",
     "text": [
      "=== save_model ===\n",
      "INFO:tensorflow:Assets written to: ./models/model-mnist_air_cnn-1.0.0/1/assets\n"
     ]
    }
   ],
   "source": [
    "mm.save_model(model, 'mnist_air')"
   ]
  },
  {
   "cell_type": "code",
   "execution_count": 72,
   "metadata": {},
   "outputs": [
    {
     "data": {
      "text/plain": [
       "[{'model_name': 'mnist_air', 'model_version': '1.0.0'},\n",
       " {'model_name': 'mnist_air_cnn', 'model_version': '1.0.0'}]"
      ]
     },
     "execution_count": 72,
     "metadata": {},
     "output_type": "execute_result"
    }
   ],
   "source": [
    "mm.list_models()"
   ]
  },
  {
   "cell_type": "code",
   "execution_count": 73,
   "metadata": {},
   "outputs": [
    {
     "data": {
      "text/plain": [
       "{'model_name': 'mnist_air_cnn', 'model_version': '1.0.0', 'user': 'omnius1'}"
      ]
     },
     "execution_count": 73,
     "metadata": {},
     "output_type": "execute_result"
    }
   ],
   "source": [
    "mm.deploy_model('mnist_air')"
   ]
  },
  {
   "cell_type": "code",
   "execution_count": 74,
   "metadata": {},
   "outputs": [
    {
     "data": {
      "text/plain": [
       "[{'model_name': 'mnist_air_cnn',\n",
       "  'model_version': '1.0.0',\n",
       "  'status': 'running'},\n",
       " {'model_name': 'handwritten_digits',\n",
       "  'model_version': '1.0.0',\n",
       "  'status': 'running'},\n",
       " {'model_name': 'mnist_air', 'model_version': '1.0.0', 'status': 'running'}]"
      ]
     },
     "execution_count": 74,
     "metadata": {},
     "output_type": "execute_result"
    }
   ],
   "source": [
    "mm.list_deployments()"
   ]
  },
  {
   "cell_type": "code",
   "execution_count": 75,
   "metadata": {},
   "outputs": [
    {
     "name": "stdout",
     "output_type": "stream",
     "text": [
      "5\n"
     ]
    }
   ],
   "source": [
    "in_data = [X_test[0].tolist()]\n",
    "model_name = 'mnist_air'\n",
    "model_version = '1.0.0'\n",
    "resp = mm.test_prediction(in_data, model_name, model_version)\n",
    "predicted_num = np.argmax(resp['predictions'][0])\n",
    "print(predicted_num)"
   ]
  },
  {
   "cell_type": "code",
   "execution_count": 30,
   "metadata": {},
   "outputs": [
    {
     "data": {
      "text/plain": [
       "{'model_name': 'mnist_air', 'model_version': '1.0.0'}"
      ]
     },
     "execution_count": 30,
     "metadata": {},
     "output_type": "execute_result"
    }
   ],
   "source": [
    "mm.stop_deployment('mnist_air')"
   ]
  },
  {
   "cell_type": "code",
   "execution_count": 59,
   "metadata": {},
   "outputs": [
    {
     "data": {
      "text/plain": [
       "[]"
      ]
     },
     "execution_count": 59,
     "metadata": {},
     "output_type": "execute_result"
    }
   ],
   "source": [
    "mm.list_deployments()"
   ]
  },
  {
   "cell_type": "code",
   "execution_count": null,
   "metadata": {},
   "outputs": [],
   "source": []
  },
  {
   "cell_type": "markdown",
   "metadata": {},
   "source": [
    "### More analysis"
   ]
  },
  {
   "cell_type": "markdown",
   "metadata": {},
   "source": [
    "#### Sample size distribution"
   ]
  },
  {
   "cell_type": "code",
   "execution_count": 67,
   "metadata": {},
   "outputs": [
    {
     "name": "stdout",
     "output_type": "stream",
     "text": [
      "Sample size distribution: \n",
      "count    409.000000\n",
      "mean     179.158924\n",
      "std       38.527195\n",
      "min       80.000000\n",
      "25%      157.000000\n",
      "50%      177.000000\n",
      "75%      197.000000\n",
      "max      354.000000\n",
      "dtype: float64\n"
     ]
    },
    {
     "data": {
      "image/png": "[encoded data removed]",
      "text/plain": [
       "<Figure size 432x288 with 1 Axes>"
      ]
     },
     "metadata": {
      "needs_background": "light"
     },
     "output_type": "display_data"
    }
   ],
   "source": [
    "sample_size_list = [m.shape[0] for m in x_raw]\n",
    "print(\"Sample size distribution: \")\n",
    "print(pd.Series(sample_size_list).describe())\n",
    "\n",
    "pd.Series(sample_size_list).hist()\n",
    "plt.show()"
   ]
  },
  {
   "cell_type": "markdown",
   "metadata": {},
   "source": [
    "#### Input size vs. Accuracy"
   ]
  },
  {
   "cell_type": "code",
   "execution_count": 69,
   "metadata": {},
   "outputs": [],
   "source": [
    "input_size_list = range(10, 200, 10)\n",
    "random_seeds = [1, 3, 11, 23, 56, 97]\n",
    "num_classes = 10"
   ]
  },
  {
   "cell_type": "code",
   "execution_count": null,
   "metadata": {},
   "outputs": [],
   "source": [
    "acc_svm_random_end_unnorm = []\n",
    "\n",
    "for input_size in input_size_list:\n",
    "    for random_seed in random_seeds:\n",
    "        x_sampled = preprocess(input_size, x_raw, random_seed=random_seed)\n",
    "        #print(\"Input size: {}, random seed: {}, sampled data {}\". format(input_size, random_seed, sampled_data.shape))\n",
    "        X_train, X_test, y_train, y_test = split_data(x_sampled, label, \n",
    "                                                      random_seed=random_seed)\n",
    "        \n",
    "        svc = SVC(C=1.0, kernel='poly', degree=3, decision_function_shape='ovo', gamma='auto')\n",
    "        svc.fit(X_train, np.dot(y_train, range(num_classes)))\n",
    "        acc_svm_random_end_unnorm.append(svc.score(X_test, np.dot(y_test, range(num_classes))))"
   ]
  },
  {
   "cell_type": "code",
   "execution_count": null,
   "metadata": {},
   "outputs": [],
   "source": [
    "acc_svm_random_begin_unnorm = []\n",
    "\n",
    "for input_size in input_size_list:\n",
    "    for random_seed in random_seeds:\n",
    "        x_sampled = preprocess(input_size, x_raw, padding='begin',\n",
    "                               random_seed=random_seed)\n",
    "        #print(\"Input size: {}, random seed: {}, sampled data {}\". format(input_size, random_seed, sampled_data.shape))\n",
    "        X_train, X_test, y_train, y_test = split_data(x_sampled, label, \n",
    "                                                      random_seed=random_seed)\n",
    "        \n",
    "        svc = SVC(C=1.0, kernel='poly', degree=3, decision_function_shape='ovo', gamma='auto')\n",
    "        svc.fit(X_train, np.dot(y_train, range(num_classes)))\n",
    "        acc_svm_random_begin_unnorm.append(svc.score(X_test, np.dot(y_test, range(num_classes))))"
   ]
  },
  {
   "cell_type": "code",
   "execution_count": null,
   "metadata": {},
   "outputs": [],
   "source": [
    "acc_mean_1, acc_std_1 = mean_std_acc(acc_svm_random_end_unnorm)\n",
    "acc_mean_2, acc_std_2 = mean_std_acc(acc_svm_random_begin_unnorm)"
   ]
  },
  {
   "cell_type": "code",
   "execution_count": null,
   "metadata": {},
   "outputs": [],
   "source": [
    "plt.plot(input_size_list, acc_mean_1, '.-')\n",
    "plt.plot(input_size_list, acc_mean_2, '--')\n",
    "plt.show()"
   ]
  }
 ],
 "metadata": {
  "kernelspec": {
   "display_name": "Python [default]",
   "language": "python",
   "name": "python3"
  },
  "language_info": {
   "codemirror_mode": {
    "name": "ipython",
    "version": 3
   },
   "file_extension": ".py",
   "mimetype": "text/x-python",
   "name": "python",
   "nbconvert_exporter": "python",
   "pygments_lexer": "ipython3",
   "version": "3.6.7"
  }
 },
 "nbformat": 4,
 "nbformat_minor": 4
}
